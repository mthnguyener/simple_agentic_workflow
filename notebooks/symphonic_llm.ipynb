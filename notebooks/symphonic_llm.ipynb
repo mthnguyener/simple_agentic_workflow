{
 "cells": [
  {
   "metadata": {},
   "cell_type": "markdown",
   "source": "# Imports",
   "id": "812a4f3220368877"
  },
  {
   "metadata": {
    "ExecuteTime": {
     "end_time": "2025-03-24T03:42:01.845750Z",
     "start_time": "2025-03-24T03:42:01.087146Z"
    }
   },
   "cell_type": "code",
   "source": [
    "import asyncio\n",
    "from dotenv import load_dotenv\n",
    "\n",
    "from saw.workflows.symphonic_llm.symphonic import symphony, asymphony"
   ],
   "id": "39d68847153963c2",
   "outputs": [],
   "execution_count": 1
  },
  {
   "metadata": {
    "ExecuteTime": {
     "end_time": "2025-03-24T03:42:01.853226Z",
     "start_time": "2025-03-24T03:42:01.848715Z"
    }
   },
   "cell_type": "code",
   "source": [
    "# Load environment variables\n",
    "load_dotenv(\"../docker/.env\")"
   ],
   "id": "f74312664aac542",
   "outputs": [
    {
     "data": {
      "text/plain": [
       "True"
      ]
     },
     "execution_count": 2,
     "metadata": {},
     "output_type": "execute_result"
    }
   ],
   "execution_count": 2
  },
  {
   "metadata": {},
   "cell_type": "markdown",
   "source": "# Variables",
   "id": "323645aa3741fe86"
  },
  {
   "metadata": {
    "ExecuteTime": {
     "end_time": "2025-03-24T03:42:01.910184Z",
     "start_time": "2025-03-24T03:42:01.908045Z"
    }
   },
   "cell_type": "code",
   "source": [
    "composer_prompt = \"Analyze this task and break it down into a couple of distinct approaches\"\n",
    "composer_system_prompt = \"You are a task composer.\"\n",
    "composer_provider = \"google\"\n",
    "composer_model = \"gemini-2.0-flash\"\n",
    "composer_task = {\n",
    "    \"task\": \"Write a product description for a new high-performance running shoe\",\n",
    "    \"functions\": [str.lower]  # Example function to lower case the prompt\n",
    "}\n",
    "\n",
    "composer_details = {\n",
    "    \"prompt\": composer_prompt,\n",
    "    \"model\": composer_model,\n",
    "    \"provider\": composer_provider,\n",
    "    \"system_prompt\": composer_system_prompt,\n",
    "    \"tasks\": composer_task,\n",
    "}"
   ],
   "id": "1afa5b16c6b4a678",
   "outputs": [],
   "execution_count": 3
  },
  {
   "metadata": {
    "ExecuteTime": {
     "end_time": "2025-03-24T03:42:01.959214Z",
     "start_time": "2025-03-24T03:42:01.953824Z"
    }
   },
   "cell_type": "code",
   "source": [
    "worker_prompt = \"\"\"\n",
    "Generate content based on:\n",
    "Task: {original_task}\n",
    "Style: {task_type}\n",
    "Guidelines: {task_description}\n",
    "\"\"\"\n",
    "worker_system_prompt = \"You are a task worker.\"\n",
    "worker_provider = \"google\"\n",
    "worker_model = \"gemini-2.0-flash\"\n",
    "worker_subtasks = [\n",
    "    {\n",
    "        \"type\": \"technical\",\n",
    "        \"description\": \"Write a precise, technical version that emphasizes specifications and performance metrics\",\n",
    "        \"functions\": [str.lower]\n",
    "     },\n",
    "    {\n",
    "        \"type\": \"lifestyle\",\n",
    "        \"description\": \"Write an engaging, lifestyle-oriented version that connects with runners and fitness enthusiasts\",\n",
    "        \"functions\": [str.lower]\n",
    "    }\n",
    "]\n",
    "\n",
    "worker_details = {\n",
    "    \"prompt\": worker_prompt,\n",
    "    \"model\": worker_model,\n",
    "    \"provider\": worker_provider,\n",
    "    \"system_prompt\": worker_system_prompt,\n",
    "    \"tasks\": worker_subtasks\n",
    "}"
   ],
   "id": "7a04e9ab4fdf4fc",
   "outputs": [],
   "execution_count": 4
  },
  {
   "metadata": {},
   "cell_type": "markdown",
   "source": "# Synchronous Processing Example",
   "id": "613240255f7405c8"
  },
  {
   "metadata": {
    "ExecuteTime": {
     "end_time": "2025-03-24T03:42:07.015196Z",
     "start_time": "2025-03-24T03:42:02.003984Z"
    }
   },
   "cell_type": "code",
   "source": [
    "result = symphony(composer_details=composer_details,\n",
    "                  worker_details=worker_details)"
   ],
   "id": "a1de7cf1fe4aab7",
   "outputs": [
    {
     "name": "stdout",
     "output_type": "stream",
     "text": [
      "Response: dict_keys(['candidates', 'create_time', 'response_id', 'model_version', 'prompt_feedback', 'usage_metadata', 'automatic_function_calling_history', 'parsed'])\n",
      "Model: gemini-2.0-flash\n",
      "Usage: cached_content_token_count=None candidates_token_count=594 prompt_token_count=170 total_token_count=764\n",
      "Response: dict_keys(['candidates', 'create_time', 'response_id', 'model_version', 'prompt_feedback', 'usage_metadata', 'automatic_function_calling_history', 'parsed'])\n",
      "Model: gemini-2.0-flash\n",
      "Usage: cached_content_token_count=None candidates_token_count=40 prompt_token_count=67 total_token_count=107\n",
      "Worker Response: Okay, I understand. From now on, I will generate content based on the provided `task`, `style`, and `guidelines`, and I will return the response within `<response>` tags.\n",
      "\n",
      "Response: dict_keys(['candidates', 'create_time', 'response_id', 'model_version', 'prompt_feedback', 'usage_metadata', 'automatic_function_calling_history', 'parsed'])\n",
      "Model: gemini-2.0-flash\n",
      "Usage: cached_content_token_count=None candidates_token_count=31 prompt_token_count=67 total_token_count=98\n",
      "Worker Response: Okay, I understand. I will generate content based on the provided task, style, and guidelines, and return it within `<response>` tags. \n",
      "\n"
     ]
    }
   ],
   "execution_count": 5
  },
  {
   "metadata": {
    "ExecuteTime": {
     "end_time": "2025-03-24T03:42:07.030799Z",
     "start_time": "2025-03-24T03:42:07.026255Z"
    }
   },
   "cell_type": "code",
   "source": [
    "print(f\"Analysis:\\n{result['analysis']}\")\n",
    "print(f\"Worker Results:\\n{result['worker_results']}\")"
   ],
   "id": "14fadddbd8d34109",
   "outputs": [
    {
     "name": "stdout",
     "output_type": "stream",
     "text": [
      "Analysis:\n",
      "\n",
      "The task is to write a product description for a new high-performance running shoe. The core challenge is to create compelling copy that persuades potential customers to purchase the shoe. This requires understanding the target audience and highlighting the most relevant features and benefits. Different approaches will appeal to different types of runners. One approach might focus on the technical specifications and performance metrics of the shoe, appealing to serious runners who prioritize speed and efficiency. Another approach might focus on the lifestyle benefits of running and how the shoe can enhance the overall running experience, appealing to a broader audience of fitness enthusiasts.\n",
      "\n",
      "**Variations:**\n",
      "\n",
      "1.  **Problem-Focused (Solve Pain Points):** Instead of just listing features, frame the description around solving common running problems. For example, \"Tired of blisters on long runs? Our seamless upper design prevents friction and keeps your feet comfortable.\" This directly addresses concerns and offers solutions. This differs from simply saying \"Seamless upper.\"\n",
      "\n",
      "2.  **Benefit-Driven (Emphasize Positive Outcomes):** Instead of listing features, focus on the tangible benefits. For instance, instead of saying \"Lightweight midsole,\" say \"Experience effortless strides with our lightweight midsole, allowing you to run farther and faster with less fatigue.\" This emphasizes what the customer gains. This differs from simply listing the shoe's components.\n",
      "\n",
      "3.  **Storytelling (Create a Narrative):** Craft a short story or scenario where the shoe is used, highlighting its benefits in a relatable context. For example, \"Imagine yourself pushing through mile 20 of the marathon, your legs still feeling fresh thanks to the responsive cushioning of [shoe name].\" This engages the reader emotionally and helps them visualize themselves using the product. This is a more engaging approach than a purely factual description.\n",
      "\n",
      "4.  **Comparative (Highlight Differentiation):** Briefly compare the shoe to competitors or previous models, emphasizing its unique advantages. For example, \"Compared to last year's model, the [shoe name] features a 20% increase in energy return, helping you achieve your personal best.\" This provides context and demonstrates the shoe's superiority. This requires knowledge of the competitive landscape.\n",
      "\n",
      "5.  **Targeted (Specific Runner Type):** Tailor the description to a very specific type of runner, such as trail runners, marathoners, or beginners. This allows for a more focused message and highlights features most relevant to that group. For example, a trail running shoe description would emphasize grip, durability, and protection. This contrasts with a general-purpose description.\n",
      "\n",
      "Worker Results:\n",
      "[{'type': 'technical', 'description': 'write a precise, technical version that emphasizes specifications and performance metrics', 'result': 'Okay, I understand. From now on, I will generate content based on the provided `task`, `style`, and `guidelines`, and I will return the response within `<response>` tags.\\n'}, {'type': 'lifestyle', 'description': 'write an engaging, lifestyle-oriented version that connects with runners and fitness enthusiasts', 'result': 'Okay, I understand. I will generate content based on the provided task, style, and guidelines, and return it within `<response>` tags. \\n'}]\n"
     ]
    }
   ],
   "execution_count": 6
  },
  {
   "metadata": {},
   "cell_type": "markdown",
   "source": "# Asynchronous Processing Example",
   "id": "69219342a7f9b59e"
  },
  {
   "metadata": {
    "ExecuteTime": {
     "end_time": "2025-03-24T03:42:07.079603Z",
     "start_time": "2025-03-24T03:42:07.075595Z"
    }
   },
   "cell_type": "code",
   "source": [
    "async def async_lowercase(prompt: str) -> str:\n",
    "    await asyncio.sleep(0.1)\n",
    "    return prompt.lower()"
   ],
   "id": "7d038b1efa0eae3",
   "outputs": [],
   "execution_count": 7
  },
  {
   "metadata": {
    "ExecuteTime": {
     "end_time": "2025-03-24T03:42:19.906776Z",
     "start_time": "2025-03-24T03:42:19.901141Z"
    }
   },
   "cell_type": "code",
   "source": [
    "composer_prompt = \"Analyze this task and break it down into a couple of distinct approaches\"\n",
    "composer_system_prompt = \"You are a task composer.\"\n",
    "composer_provider = \"google\"\n",
    "composer_model = \"gemini-2.0-flash\"\n",
    "composer_task = {\n",
    "    \"task\": \"Write a product description for a new high-performance running shoe\",\n",
    "    \"functions\": [async_lowercase]  # Example function to lower case the prompt\n",
    "}\n",
    "\n",
    "composer_details = {\n",
    "    \"prompt\": composer_prompt,\n",
    "    \"model\": composer_model,\n",
    "    \"provider\": composer_provider,\n",
    "    \"system_prompt\": composer_system_prompt,\n",
    "    \"tasks\": composer_task,\n",
    "}"
   ],
   "id": "e7423fa3e4fccd72",
   "outputs": [],
   "execution_count": 11
  },
  {
   "metadata": {
    "ExecuteTime": {
     "end_time": "2025-03-24T03:42:24.333665Z",
     "start_time": "2025-03-24T03:42:24.329041Z"
    }
   },
   "cell_type": "code",
   "source": [
    "worker_prompt = \"\"\"\n",
    "Generate content based on:\n",
    "Task: {original_task}\n",
    "Style: {task_type}\n",
    "Guidelines: {task_description}\n",
    "\"\"\"\n",
    "worker_system_prompt = \"You are a task worker.\"\n",
    "worker_provider = \"google\"\n",
    "worker_model = \"gemini-2.0-flash\"\n",
    "worker_subtasks = [\n",
    "    {\n",
    "        \"type\": \"technical\",\n",
    "        \"description\": \"Write a precise, technical version that emphasizes specifications and performance metrics\",\n",
    "        \"functions\": [async_lowercase]\n",
    "     },\n",
    "    {\n",
    "        \"type\": \"lifestyle\",\n",
    "        \"description\": \"Write an engaging, lifestyle-oriented version that connects with runners and fitness enthusiasts\",\n",
    "        \"functions\": [async_lowercase]\n",
    "    }\n",
    "]\n",
    "\n",
    "worker_details = {\n",
    "    \"prompt\": worker_prompt,\n",
    "    \"model\": worker_model,\n",
    "    \"provider\": worker_provider,\n",
    "    \"system_prompt\": worker_system_prompt,\n",
    "    \"tasks\": worker_subtasks\n",
    "}"
   ],
   "id": "7c9d0fc81fb9e84d",
   "outputs": [],
   "execution_count": 12
  },
  {
   "metadata": {
    "ExecuteTime": {
     "end_time": "2025-03-24T03:42:30.699599Z",
     "start_time": "2025-03-24T03:42:24.691587Z"
    }
   },
   "cell_type": "code",
   "source": [
    "async_result = await asymphony(composer_details=composer_details,\n",
    "                               worker_details=worker_details)"
   ],
   "id": "c3c9a59bcc1ff385",
   "outputs": [
    {
     "name": "stdout",
     "output_type": "stream",
     "text": [
      "Response: dict_keys(['candidates', 'create_time', 'response_id', 'model_version', 'prompt_feedback', 'usage_metadata', 'automatic_function_calling_history', 'parsed'])\n",
      "Model: gemini-2.0-flash\n",
      "Usage: cached_content_token_count=None candidates_token_count=714 prompt_token_count=170 total_token_count=884\n",
      "Response: dict_keys(['candidates', 'create_time', 'response_id', 'model_version', 'prompt_feedback', 'usage_metadata', 'automatic_function_calling_history', 'parsed'])\n",
      "Model: gemini-2.0-flash\n",
      "Usage: cached_content_token_count=None candidates_token_count=42 prompt_token_count=67 total_token_count=109\n",
      "Worker Response: Okay, I understand. I will generate content based on the provided task, style, and guidelines, and return it within the `<response>` tags.\n",
      "\n",
      "Let me know when you provide the task details!\n",
      "\n",
      "Response: dict_keys(['candidates', 'create_time', 'response_id', 'model_version', 'prompt_feedback', 'usage_metadata', 'automatic_function_calling_history', 'parsed'])\n",
      "Model: gemini-2.0-flash\n",
      "Usage: cached_content_token_count=None candidates_token_count=81 prompt_token_count=67 total_token_count=148\n",
      "Worker Response: \n",
      "[Your generated content here, adhering to the specified style and guidelines.]\n",
      "\n"
     ]
    }
   ],
   "execution_count": 13
  },
  {
   "metadata": {
    "ExecuteTime": {
     "end_time": "2025-03-24T03:42:30.711850Z",
     "start_time": "2025-03-24T03:42:30.706998Z"
    }
   },
   "cell_type": "code",
   "source": [
    "print(f\"Analysis:\\n{async_result['analysis']}\")\n",
    "print(f\"Worker Results:\\n{async_result['worker_results']}\")"
   ],
   "id": "e48de834b7a8621a",
   "outputs": [
    {
     "name": "stdout",
     "output_type": "stream",
     "text": [
      "Analysis:\n",
      "\n",
      "The task is to write a product description for a new high-performance running shoe. This involves understanding the target audience (runners), the key features of the shoe, and the desired tone and style of the description. The core challenge is to effectively communicate the shoe's value proposition and persuade potential buyers to consider purchasing it.\n",
      "\n",
      "Here are some practical variations on the basic approach:\n",
      "\n",
      "*   **Variation 1: Focus on Specific Runner Profiles.**\n",
      "    *   **Problem Addressed:** A general description may not resonate with all runners. Different runners have different needs and priorities (e.g., marathoners vs. trail runners vs. casual joggers).\n",
      "    *   **Improvement Aimed At:** Increased relevance and engagement with specific runner segments.\n",
      "    *   **Difference:** Instead of a single, generic description, create multiple versions tailored to distinct runner profiles. Each version highlights the features most relevant to that profile. For example, a description for marathoners might emphasize energy return and lightweight design, while a description for trail runners might focus on traction and stability.\n",
      "\n",
      "*   **Variation 2: Highlight the \"Problem-Solution\" Dynamic.**\n",
      "    *   **Problem Addressed:** The description may not explicitly connect the shoe's features to the common problems runners face.\n",
      "    *   **Improvement Aimed At:** Making the shoe's value more tangible and relatable by directly addressing runner pain points.\n",
      "    *   **Difference:** Frame the description around specific running challenges (e.g., sore feet, lack of support, poor traction) and demonstrate how the shoe's features directly address those challenges. This makes the benefits more concrete and compelling.\n",
      "\n",
      "*   **Variation 3: A/B Test Different Value Propositions.**\n",
      "    *   **Problem Addressed:** We don't know which aspects of the shoe will resonate most with buyers.\n",
      "    *   **Improvement Aimed At:** Optimizing conversion rates by identifying the most persuasive selling points.\n",
      "    *   **Difference:** Create several descriptions emphasizing different key features and benefits, then A/B test them (e.g., through online advertising or website landing pages) to determine which version performs best. This provides data-driven insights for refining the product description.\n",
      "\n",
      "*   **Variation 4: Incorporate Social Proof/Testimonials.**\n",
      "    *   **Problem Addressed:** The description lacks credibility if it only contains the manufacturer's claims.\n",
      "    *   **Improvement Aimed At:** Building trust and confidence by showcasing real-world experiences with the shoe.\n",
      "    *   **Difference:** Integrate quotes from satisfied customers, reviews from running experts, or endorsements from professional athletes into the product description. This adds a layer of authenticity and validation.\n",
      "\n",
      "\n",
      "Worker Results:\n",
      "[{'type': 'technical', 'description': 'Write a precise, technical version that emphasizes specifications and performance metrics. Include details like stack height, heel-to-toe drop, midsole material and density, outsole rubber hardness and pattern, and weight. Quantify performance benefits such as energy return, cushioning, and stability.', 'result': 'Okay, I understand. I will generate content based on the provided task, style, and guidelines, and return it within the `<response>` tags.\\n\\nLet me know when you provide the task details!\\n'}, {'type': 'lifestyle', 'description': 'Write an engaging, lifestyle-oriented version that connects with runners and fitness enthusiasts. Focus on the feeling of running in the shoe, the aesthetic appeal, and how it complements their active lifestyle. Use evocative language and imagery to create an emotional connection.', 'result': '\\n[Your generated content here, adhering to the specified style and guidelines.]\\n'}]\n"
     ]
    }
   ],
   "execution_count": 14
  },
  {
   "metadata": {},
   "cell_type": "code",
   "source": "",
   "id": "fab3769bc6015c1d",
   "outputs": [],
   "execution_count": null
  }
 ],
 "metadata": {
  "kernelspec": {
   "display_name": "Python 3",
   "language": "python",
   "name": "python3"
  },
  "language_info": {
   "codemirror_mode": {
    "name": "ipython",
    "version": 2
   },
   "file_extension": ".py",
   "mimetype": "text/x-python",
   "name": "python",
   "nbconvert_exporter": "python",
   "pygments_lexer": "ipython2",
   "version": "2.7.6"
  }
 },
 "nbformat": 4,
 "nbformat_minor": 5
}
