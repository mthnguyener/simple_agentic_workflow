{
 "cells": [
  {
   "metadata": {},
   "cell_type": "markdown",
   "source": "# Imports",
   "id": "812a4f3220368877"
  },
  {
   "metadata": {
    "collapsed": true,
    "ExecuteTime": {
     "end_time": "2025-03-23T02:09:48.040395Z",
     "start_time": "2025-03-23T02:09:47.563264Z"
    }
   },
   "cell_type": "code",
   "source": [
    "from dotenv import load_dotenv\n",
    "\n",
    "from saw.workflows.symphonic_llm.symphonic import symphony, asymphony"
   ],
   "id": "initial_id",
   "outputs": [],
   "execution_count": 1
  },
  {
   "metadata": {
    "ExecuteTime": {
     "end_time": "2025-03-23T02:09:48.048454Z",
     "start_time": "2025-03-23T02:09:48.044103Z"
    }
   },
   "cell_type": "code",
   "source": [
    "# Load environment variables\n",
    "load_dotenv(\"../docker/.env\")"
   ],
   "id": "8ee29d3e3a7cb9bf",
   "outputs": [
    {
     "data": {
      "text/plain": [
       "True"
      ]
     },
     "execution_count": 2,
     "metadata": {},
     "output_type": "execute_result"
    }
   ],
   "execution_count": 2
  },
  {
   "metadata": {},
   "cell_type": "markdown",
   "source": "# Variables",
   "id": "323645aa3741fe86"
  },
  {
   "metadata": {
    "ExecuteTime": {
     "end_time": "2025-03-23T02:09:48.104019Z",
     "start_time": "2025-03-23T02:09:48.101797Z"
    }
   },
   "cell_type": "code",
   "source": [
    "composer_prompt = \"Analyze this task and break it down into a couple of distinct approaches\"\n",
    "composer_system_prompt = \"You are a task composer.\"\n",
    "composer_provider = \"google\"\n",
    "composer_model = \"gemini-2.0-flash\"\n",
    "composer_task = {\n",
    "    \"task\": \"Write a product description for a new high-performance running shoe\",\n",
    "    \"functions\": [str.lower]  # Example function to lower case the prompt\n",
    "}\n",
    "\n",
    "composer_details = {\n",
    "    \"prompt\": composer_prompt,\n",
    "    \"model\": composer_model,\n",
    "    \"provider\": composer_provider,\n",
    "    \"system_prompt\": composer_system_prompt,\n",
    "    \"main_task\": composer_task,\n",
    "}"
   ],
   "id": "2dc5fd3600f99573",
   "outputs": [],
   "execution_count": 3
  },
  {
   "metadata": {
    "ExecuteTime": {
     "end_time": "2025-03-23T02:09:48.154819Z",
     "start_time": "2025-03-23T02:09:48.148832Z"
    }
   },
   "cell_type": "code",
   "source": [
    "worker_prompt = \"\"\"\n",
    "Generate content based on:\n",
    "Task: {original_task}\n",
    "Style: {task_type}\n",
    "Guidelines: {task_description}\n",
    "\"\"\"\n",
    "worker_system_prompt = \"You are a task worker.\"\n",
    "worker_provider = \"google\"\n",
    "worker_model = \"gemini-2.0-flash\"\n",
    "worker_subtasks = [\n",
    "    {\n",
    "        \"type\": \"technical\",\n",
    "        \"description\": \"Write a precise, technical version that emphasizes specifications and performance metrics\",\n",
    "        \"functions\": [str.lower]\n",
    "     },\n",
    "    {\n",
    "        \"type\": \"lifestyle\",\n",
    "        \"description\": \"Write an engaging, lifestyle-oriented version that connects with runners and fitness enthusiasts\",\n",
    "        \"functions\": [str.lower]\n",
    "    }\n",
    "]\n",
    "\n",
    "worker_details = {\n",
    "    \"prompt\": worker_prompt,\n",
    "    \"model\": worker_model,\n",
    "    \"provider\": worker_provider,\n",
    "    \"system_prompt\": worker_system_prompt,\n",
    "    \"subtasks\": worker_subtasks\n",
    "}"
   ],
   "id": "4400012e879a547d",
   "outputs": [],
   "execution_count": 4
  },
  {
   "metadata": {},
   "cell_type": "markdown",
   "source": "# Synchronous Processing Example",
   "id": "613240255f7405c8"
  },
  {
   "metadata": {
    "ExecuteTime": {
     "end_time": "2025-03-23T02:09:59.602285Z",
     "start_time": "2025-03-23T02:09:48.199089Z"
    }
   },
   "cell_type": "code",
   "source": [
    "result = symphony(composer_details=composer_details,\n",
    "                  worker_details=worker_details)"
   ],
   "id": "a1de7cf1fe4aab7",
   "outputs": [
    {
     "name": "stdout",
     "output_type": "stream",
     "text": [
      "Response: dict_keys(['candidates', 'create_time', 'response_id', 'model_version', 'prompt_feedback', 'usage_metadata', 'automatic_function_calling_history', 'parsed'])\n",
      "Model: gemini-2.0-flash\n",
      "Usage: cached_content_token_count=None candidates_token_count=1032 prompt_token_count=170 total_token_count=1202\n",
      "Response: dict_keys(['candidates', 'create_time', 'response_id', 'model_version', 'prompt_feedback', 'usage_metadata', 'automatic_function_calling_history', 'parsed'])\n",
      "Model: gemini-2.0-flash\n",
      "Usage: cached_content_token_count=None candidates_token_count=87 prompt_token_count=67 total_token_count=154\n",
      "Worker Response: \n",
      "Your content here, maintaining the specified style and fully addressing requirements.\n",
      "\n",
      "Response: dict_keys(['candidates', 'create_time', 'response_id', 'model_version', 'prompt_feedback', 'usage_metadata', 'automatic_function_calling_history', 'parsed'])\n",
      "Model: gemini-2.0-flash\n",
      "Usage: cached_content_token_count=None candidates_token_count=156 prompt_token_count=67 total_token_count=223\n",
      "Worker Response: Okay, I understand. I'm ready. Please provide the following:\n",
      "\n",
      "*   **original_task:** The specific task you want me to complete (e.g., \"Write a blog post about the benefits of meditation\").\n",
      "*   **task_type:** The style of content you want (e.g., \"Informative,\" \"Humorous,\" \"Persuasive,\" \"Technical,\" \"Creative\").\n",
      "*   **task_description:** Any specific guidelines or requirements for the content (e.g., \"Target audience is beginners. Keep it concise and easy to understand. Include three specific benefits with examples.\").\n",
      "\n",
      "Once you provide this information, I will generate the content according to your specifications and return it in the requested `<response>` format.\n",
      "\n",
      "Response: dict_keys(['candidates', 'create_time', 'response_id', 'model_version', 'prompt_feedback', 'usage_metadata', 'automatic_function_calling_history', 'parsed'])\n",
      "Model: gemini-2.0-flash\n",
      "Usage: cached_content_token_count=None candidates_token_count=39 prompt_token_count=67 total_token_count=106\n",
      "Worker Response: Okay, I understand. I will generate content based on the provided task, style, and guidelines, and present it within the `<response>` tags. I'm ready when you are!\n",
      "\n",
      "Response: dict_keys(['candidates', 'create_time', 'response_id', 'model_version', 'prompt_feedback', 'usage_metadata', 'automatic_function_calling_history', 'parsed'])\n",
      "Model: gemini-2.0-flash\n",
      "Usage: cached_content_token_count=None candidates_token_count=72 prompt_token_count=67 total_token_count=139\n",
      "Worker Response: \n",
      "Your content here, maintaining the specified style and fully addressing requirements.\n",
      "\n",
      "Response: dict_keys(['candidates', 'create_time', 'response_id', 'model_version', 'prompt_feedback', 'usage_metadata', 'automatic_function_calling_history', 'parsed'])\n",
      "Model: gemini-2.0-flash\n",
      "Usage: cached_content_token_count=None candidates_token_count=70 prompt_token_count=67 total_token_count=137\n",
      "Worker Response: \n",
      "Your content here, maintaining the specified style and fully addressing requirements.\n",
      "\n",
      "Response: dict_keys(['candidates', 'create_time', 'response_id', 'model_version', 'prompt_feedback', 'usage_metadata', 'automatic_function_calling_history', 'parsed'])\n",
      "Model: gemini-2.0-flash\n",
      "Usage: cached_content_token_count=None candidates_token_count=138 prompt_token_count=67 total_token_count=205\n",
      "Worker Response: Okay, I understand. I will generate content based on the provided task, style, and guidelines, and present it within the `<response>` tags. \n",
      "\n",
      "Please provide the following information so I can complete your request:\n",
      "\n",
      "*   **original_task:** (Describe the task you want me to perform. Be specific.)\n",
      "*   **task_type:** (Specify the desired style, e.g., persuasive, informative, creative, technical, etc.)\n",
      "*   **task_description:** (Provide detailed guidelines, including tone, length, target audience, specific points to cover, and any constraints.)\n",
      "\n",
      "Once I have this information, I will generate the content accordingly.\n",
      "\n"
     ]
    }
   ],
   "execution_count": 5
  },
  {
   "metadata": {
    "ExecuteTime": {
     "end_time": "2025-03-23T02:10:06.791477Z",
     "start_time": "2025-03-23T02:10:06.785913Z"
    }
   },
   "cell_type": "code",
   "source": [
    "print(f\"Analysis:\\n{result['analysis']}\")\n",
    "print(f\"Worker Results:\\n{result['worker_results']}\")"
   ],
   "id": "14fadddbd8d34109",
   "outputs": [
    {
     "name": "stdout",
     "output_type": "stream",
     "text": [
      "Analysis:\n",
      "\n",
      "The core task is to write a compelling product description for a new high-performance running shoe. The description needs to inform potential customers about the shoe and persuade them to purchase it. There are several ways to approach this depending on the target audience and the specific marketing goals. Two distinct approaches are outlined below: a technical approach focused on performance metrics and a lifestyle-oriented approach emphasizing emotional connection and aspirational values.\n",
      "\n",
      "**Variation 1: Focus on Pain Point Solution**\n",
      "\n",
      "*   **Problem Solved:** The original task doesn't explicitly address common runner pain points. A variation focusing on pain point solutions can highlight how the shoe directly alleviates issues like blisters, impact stress, or lack of support.\n",
      "*   **Implementation:** This variation would start by identifying common running-related problems. The description would then explicitly link the shoe's features to solving those problems. For example, instead of just saying \"advanced cushioning,\" it would say \"reduces impact stress on knees and joints with advanced cushioning technology.\"\n",
      "*   **Difference:** This differs from the original by structuring the description around problems and solutions, rather than just listing features and benefits.\n",
      "\n",
      "**Variation 2: Highlight Unique Selling Proposition (USP)**\n",
      "\n",
      "*   **Problem Solved:** The original task doesn't specify emphasizing the unique aspects of the shoe. If the shoe has a truly novel feature or technology, it's crucial to highlight it.\n",
      "*   **Implementation:** This variation would require identifying the shoe's key differentiator. The description would then be structured around this USP, explaining what makes it special and why it benefits the runner. The other features would be presented in support of the USP.\n",
      "*   **Difference:** This variation shifts the focus from a general description to emphasizing the one or two things that make the shoe stand out from the competition.\n",
      "\n",
      "**Variation 3: A/B Test Different Tone and Style**\n",
      "\n",
      "*   **Problem Solved:** Difficulty in predicting which writing style will resonate most with the target audience.\n",
      "*   **Implementation:** Craft multiple product descriptions, varying in tone (e.g., authoritative, friendly, humorous) and writing style (e.g., concise, detailed, story-driven). A/B test these descriptions on different segments of the target audience to identify the most effective approach.\n",
      "*   **Difference:** The original task focuses on generating a single description. This variation emphasizes experimentation and data-driven optimization of the description based on actual audience response.\n",
      "\n",
      "**Variation 4: Incorporate Social Proof and Testimonials**\n",
      "\n",
      "*   **Problem Solved:** The original task lacks a mechanism for leveraging social proof, which can significantly influence purchasing decisions.\n",
      "*   **Implementation:** Integrate quotes from early testers, professional athletes, or verified buyers directly into the product description. Showcase positive reviews and ratings to build trust and credibility.\n",
      "*   **Difference:** This approach adds a layer of validation from real users, strengthening the persuasive power of the description beyond the product's features and benefits.\n",
      "\n",
      "Worker Results:\n",
      "[{'type': 'technical', 'description': 'Write a precise, technical version that emphasizes specifications and performance metrics.  Include details such as weight, heel-to-toe drop, midsole material, outsole durability rating, and target runner profile based on gait and running style.', 'result': '\\nYour content here, maintaining the specified style and fully addressing requirements.\\n'}, {'type': 'lifestyle', 'description': 'Write an engaging, lifestyle-oriented version that connects with runners and fitness enthusiasts. Focus on the feeling of freedom, confidence, and accomplishment the shoe provides. Use vivid language and storytelling to create an emotional connection.', 'result': 'Okay, I understand. I\\'m ready. Please provide the following:\\n\\n*   **original_task:** The specific task you want me to complete (e.g., \"Write a blog post about the benefits of meditation\").\\n*   **task_type:** The style of content you want (e.g., \"Informative,\" \"Humorous,\" \"Persuasive,\" \"Technical,\" \"Creative\").\\n*   **task_description:** Any specific guidelines or requirements for the content (e.g., \"Target audience is beginners. Keep it concise and easy to understand. Include three specific benefits with examples.\").\\n\\nOnce you provide this information, I will generate the content according to your specifications and return it in the requested `<response>` format.\\n'}, {'type': 'pain_point', 'description': 'Write a product description that explicitly addresses common runner pain points such as blisters, impact stress, and lack of support. Highlight how the shoe\\'s features solve these problems, using language like \"reduces impact stress\" or \"prevents blisters.\"', 'result': \"Okay, I understand. I will generate content based on the provided task, style, and guidelines, and present it within the `<response>` tags. I'm ready when you are!\\n\"}, {'type': 'usp', 'description': \"Identify and highlight the shoe's unique selling proposition (USP). Structure the product description around this USP, explaining what makes the shoe special and why it benefits the runner. Support this USP with details about other features.\", 'result': '\\nYour content here, maintaining the specified style and fully addressing requirements.\\n'}, {'type': 'ab_test_tone', 'description': 'Create three different product descriptions, each with a distinct tone: authoritative, friendly, and humorous. Focus on the same core features but present them using different language and stylistic choices to appeal to varying audience preferences. Aim to test which tone resonates best with potential buyers.', 'result': '\\nYour content here, maintaining the specified style and fully addressing requirements.\\n'}, {'type': 'social_proof', 'description': 'Incorporate social proof into the product description by including quotes from early testers, professional athletes, or verified buyers. Highlight positive reviews and ratings to build trust and credibility. Use phrases like \"As one runner put it...\" or \"Rated 4.8/5 stars by over 500 users.\"', 'result': 'Okay, I understand. I will generate content based on the provided task, style, and guidelines, and present it within the `<response>` tags. \\n\\nPlease provide the following information so I can complete your request:\\n\\n*   **original_task:** (Describe the task you want me to perform. Be specific.)\\n*   **task_type:** (Specify the desired style, e.g., persuasive, informative, creative, technical, etc.)\\n*   **task_description:** (Provide detailed guidelines, including tone, length, target audience, specific points to cover, and any constraints.)\\n\\nOnce I have this information, I will generate the content accordingly.\\n'}]\n"
     ]
    }
   ],
   "execution_count": 6
  },
  {
   "metadata": {},
   "cell_type": "markdown",
   "source": "# Asynchronous Processing Example",
   "id": "69219342a7f9b59e"
  },
  {
   "metadata": {
    "ExecuteTime": {
     "end_time": "2025-03-23T02:10:24.849865Z",
     "start_time": "2025-03-23T02:10:20.617182Z"
    }
   },
   "cell_type": "code",
   "source": [
    "async_result = await asymphony(composer_details=composer_details,\n",
    "                               worker_details=worker_details)"
   ],
   "id": "67e093a52b813d68",
   "outputs": [
    {
     "name": "stdout",
     "output_type": "stream",
     "text": [
      "Response: dict_keys(['candidates', 'create_time', 'response_id', 'model_version', 'prompt_feedback', 'usage_metadata', 'automatic_function_calling_history', 'parsed'])\n",
      "Model: gemini-2.0-flash\n",
      "Usage: cached_content_token_count=None candidates_token_count=292 prompt_token_count=170 total_token_count=462\n",
      "Response: dict_keys(['candidates', 'create_time', 'response_id', 'model_version', 'prompt_feedback', 'usage_metadata', 'automatic_function_calling_history', 'parsed'])\n",
      "Model: gemini-2.0-flash\n",
      "Usage: cached_content_token_count=None candidates_token_count=171 prompt_token_count=67 total_token_count=238\n",
      "Worker Response: \n",
      "Your content here, maintaining the specified style and fully addressing requirements.\n",
      "\n",
      "Response: dict_keys(['candidates', 'create_time', 'response_id', 'model_version', 'prompt_feedback', 'usage_metadata', 'automatic_function_calling_history', 'parsed'])\n",
      "Model: gemini-2.0-flash\n",
      "Usage: cached_content_token_count=None candidates_token_count=73 prompt_token_count=67 total_token_count=140\n",
      "Worker Response: \n",
      "Your content here, maintaining the specified style and fully addressing requirements.\n",
      "\n"
     ]
    }
   ],
   "execution_count": 7
  },
  {
   "metadata": {
    "ExecuteTime": {
     "end_time": "2025-03-23T02:10:24.856017Z",
     "start_time": "2025-03-23T02:10:24.853401Z"
    }
   },
   "cell_type": "code",
   "source": [
    "print(f\"Analysis:\\n{async_result['analysis']}\")\n",
    "print(f\"Worker Results:\\n{async_result['worker_results']}\")"
   ],
   "id": "7450eac089ca206e",
   "outputs": [
    {
     "name": "stdout",
     "output_type": "stream",
     "text": [
      "Analysis:\n",
      "\n",
      "The core task is to write a product description for a running shoe. There are many possible angles one could take with that. The aim is to make the description impactful and appealing to potential customers. A single product description might not be optimal for everyone. One approach is to write a technical product description that appeals to hardcore runners while the other approach is to write something inspirational that appeals to more casual runners. These variations are designed to address different customer needs and preferences, ultimately improving the overall effectiveness of the marketing material.\n",
      "\n",
      "Worker Results:\n",
      "[{'type': 'technical', 'description': 'Craft a product description that highlights technical specifications, such as midsole material, outsole grip technology, upper construction, weight, heel-to-toe drop, and ideal running distance/terrain. Quantify performance improvements (e.g., energy return, cushioning) with data or comparisons to previous models. Target experienced runners and those interested in the science behind the shoe. Focus on facts and objective benefits.', 'result': '\\nYour content here, maintaining the specified style and fully addressing requirements.\\n'}, {'type': 'lifestyle', 'description': 'Develop a product description that focuses on the emotional benefits of the shoe. Use vivid language and storytelling to paint a picture of the running experience. Emphasize comfort, style, and the feeling of freedom and accomplishment. Target casual runners and those motivated by the overall running lifestyle. Focus on aspirational and relatable language.', 'result': '\\nYour content here, maintaining the specified style and fully addressing requirements.\\n'}]\n"
     ]
    }
   ],
   "execution_count": 8
  },
  {
   "metadata": {},
   "cell_type": "code",
   "source": "",
   "id": "7d1d4e5157b381d3",
   "outputs": [],
   "execution_count": null
  }
 ],
 "metadata": {
  "kernelspec": {
   "display_name": "Python 3",
   "language": "python",
   "name": "python3"
  },
  "language_info": {
   "codemirror_mode": {
    "name": "ipython",
    "version": 2
   },
   "file_extension": ".py",
   "mimetype": "text/x-python",
   "name": "python",
   "nbconvert_exporter": "python",
   "pygments_lexer": "ipython2",
   "version": "2.7.6"
  }
 },
 "nbformat": 4,
 "nbformat_minor": 5
}
