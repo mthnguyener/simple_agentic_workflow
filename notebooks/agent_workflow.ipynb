{
 "cells": [
  {
   "metadata": {},
   "cell_type": "markdown",
   "source": "# Imports",
   "id": "a5dc82e8d4a47f0b"
  },
  {
   "metadata": {
    "ExecuteTime": {
     "end_time": "2025-03-23T22:06:00.408041Z",
     "start_time": "2025-03-23T22:05:59.629972Z"
    }
   },
   "cell_type": "code",
   "source": [
    "from dotenv import load_dotenv\n",
    "\n",
    "from saw.workflow import AgentWorkflow"
   ],
   "id": "bab9770b0f66a74c",
   "outputs": [],
   "execution_count": 1
  },
  {
   "metadata": {
    "ExecuteTime": {
     "end_time": "2025-03-23T22:06:00.419364Z",
     "start_time": "2025-03-23T22:06:00.414701Z"
    }
   },
   "cell_type": "code",
   "source": [
    "# Load environment variables\n",
    "load_dotenv(\"../docker/.env\")"
   ],
   "id": "497020cb092b8844",
   "outputs": [
    {
     "data": {
      "text/plain": [
       "True"
      ]
     },
     "execution_count": 2,
     "metadata": {},
     "output_type": "execute_result"
    }
   ],
   "execution_count": 2
  },
  {
   "metadata": {
    "ExecuteTime": {
     "end_time": "2025-03-23T22:06:00.531995Z",
     "start_time": "2025-03-23T22:06:00.527669Z"
    }
   },
   "cell_type": "code",
   "source": [
    "provider = \"google\"\n",
    "model = \"gemini-2.0-flash\"\n",
    "provider2 = \"ollama\"\n",
    "model2 = \"deepseek-r1:1.5b\"\n",
    "provider3 = \"groq\"\n",
    "model3 = \"llama3-8b-8192\"\n",
    "provider4 = \"openai\"\n",
    "model4 = \"gpt-4o-mini\""
   ],
   "id": "9800140972f33d25",
   "outputs": [],
   "execution_count": 3
  },
  {
   "metadata": {},
   "cell_type": "markdown",
   "source": "# Example 1: Synchronous Chaining",
   "id": "45167e6eb1744996"
  },
  {
   "metadata": {
    "ExecuteTime": {
     "end_time": "2025-03-23T17:07:33.797034Z",
     "start_time": "2025-03-23T17:07:33.790801Z"
    }
   },
   "cell_type": "code",
   "source": [
    "# Initialize the AgentWorkflow for chaining\n",
    "agent = AgentWorkflow(operation=\"chaining\")\n",
    "\n",
    "# Define the query and input list\n",
    "query = \"Explain the process of photosynthesis.\"\n",
    "prompts = [\n",
    "    {\n",
    "        \"prompt\": \"Step 1: Light absorption\",\n",
    "        \"model\": model,\n",
    "        \"provider\": provider,\n",
    "        \"system_prompt\": \"You are a helpful assistant.\",\n",
    "        \"functions\": [str.lower]\n",
    "    },\n",
    "    {\n",
    "        \"prompt\": \"Step 2: Water splitting\",\n",
    "        \"model\": model,\n",
    "        \"provider\": provider,\n",
    "        \"system_prompt\": \"You are a helpful assistant.\",\n",
    "        \"functions\": [str.lower]\n",
    "    },\n",
    "    {\n",
    "        \"prompt\": \"Step 3: Oxygen release\",\n",
    "        \"model\": model,\n",
    "        \"provider\": provider,\n",
    "        \"system_prompt\": \"You are a helpful assistant.\",\n",
    "        \"functions\": [str.lower]\n",
    "    }\n",
    "]"
   ],
   "id": "efa66b5861e15d5f",
   "outputs": [],
   "execution_count": 4
  },
  {
   "metadata": {
    "ExecuteTime": {
     "end_time": "2025-03-23T17:07:40.900589Z",
     "start_time": "2025-03-23T17:07:34.519968Z"
    }
   },
   "cell_type": "code",
   "source": [
    "# Execute the workflow\n",
    "agent.execute(query=query, prompts=prompts)"
   ],
   "id": "3723bd84daaef0b2",
   "outputs": [
    {
     "name": "stdout",
     "output_type": "stream",
     "text": [
      "Model: google-gemini-2.0-flash\n",
      "\n",
      "Step 1: step 1: light absorption\n",
      "Response: dict_keys(['candidates', 'create_time', 'response_id', 'model_version', 'prompt_feedback', 'usage_metadata', 'automatic_function_calling_history', 'parsed'])\n",
      "Model: gemini-2.0-flash\n",
      "Usage: cached_content_token_count=None candidates_token_count=207 prompt_token_count=21 total_token_count=228\n",
      "\n",
      "Result: Okay, I will explain the process of photosynthesis, starting with the first step:\n",
      "\n",
      "**Step 1: Light Absorption**\n",
      "\n",
      "*   **The Foundation: Pigments:** Photosynthesis begins with specialized pigments within plant cells (specifically, inside chloroplasts) capturing light energy. The most important pigment is chlorophyll, which gives plants their green color. Other pigments, like carotenoids (responsible for yellows and oranges), also contribute by absorbing different wavelengths of light.\n",
      "\n",
      "*   **How it Works:** When light strikes a chlorophyll molecule, the light energy excites electrons within the molecule, boosting them to a higher energy level. This \"excited\" state is unstable, and the energy needs to be captured and converted.\n",
      "\n",
      "*   **Location:** This light absorption primarily happens in structures called light-harvesting complexes (also known as antenna complexes) within the thylakoid membranes inside the chloroplasts.\n",
      "\n",
      "In essence, this step is all about capturing the initial energy input (sunlight) that will drive the rest of the photosynthetic process.\n",
      "\n",
      "Model: google-gemini-2.0-flash\n",
      "\n",
      "Step 2: step 2: water splitting\n",
      "Response: dict_keys(['candidates', 'create_time', 'response_id', 'model_version', 'prompt_feedback', 'usage_metadata', 'automatic_function_calling_history', 'parsed'])\n",
      "Model: gemini-2.0-flash\n",
      "Usage: cached_content_token_count=None candidates_token_count=46 prompt_token_count=222 total_token_count=268\n",
      "\n",
      "Result: Okay, I understand the first step, light absorption. Now you're ready to explain the second step, water splitting. I'm ready to listen! Please provide the details of Step 2: Water Splitting.\n",
      "\n",
      "Model: google-gemini-2.0-flash\n",
      "\n",
      "Step 3: step 3: oxygen release\n",
      "Response: dict_keys(['candidates', 'create_time', 'response_id', 'model_version', 'prompt_feedback', 'usage_metadata', 'automatic_function_calling_history', 'parsed'])\n",
      "Model: gemini-2.0-flash\n",
      "Usage: cached_content_token_count=None candidates_token_count=533 prompt_token_count=61 total_token_count=594\n",
      "\n",
      "Result: Okay, moving on to **Step 2: Water Splitting (Photolysis)**\n",
      "\n",
      "After light energy is captured by chlorophyll and passed to the reaction center of Photosystem II (PSII), this energy is used to split water molecules. Here's a breakdown:\n",
      "\n",
      "*   **The Oxygen-Evolving Complex (OEC):** This is a crucial component within PSII. It's a cluster of manganese, calcium, and oxygen atoms. This complex is the engine that drives water splitting. Think of it like the \"active site\" of an enzyme designed specifically for this reaction.\n",
      "\n",
      "*   **The Reaction:** The OEC catalyzes the following reaction:\n",
      "\n",
      "    2 H₂O  →  4 H⁺ + 4 e⁻ + O₂\n",
      "\n",
      "    In other words: Two molecules of water are split into four protons (H+), four electrons (e-), and one molecule of oxygen (O₂).\n",
      "\n",
      "*   **Why is water splitting so important?**\n",
      "\n",
      "    *   **Electron Source:** The electrons released from water are essential! These electrons are used to replenish the electrons lost by chlorophyll in PSII when it absorbs light energy. Remember, chlorophyll *donates* electrons when it gets energized, and it needs to get those electrons back to continue the process.\n",
      "    *   **Proton Gradient:** The protons (H+) released contribute to a proton gradient across the thylakoid membrane. This gradient is vital for ATP synthesis (we'll get to that in the next major phase).\n",
      "    *   **Oxygen Production:** Finally, and most famously, this process releases oxygen (O₂) as a byproduct! This is the oxygen we breathe and is the origin of all the oxygen in the atmosphere.\n",
      "\n",
      "*   **The Mechanism (simplified):** The OEC goes through a series of oxidation states (called the S-states, S0 to S4). Each time PSII absorbs light, the OEC advances to the next oxidation state by extracting one electron from the water molecule. After four light absorption events (and four electron extractions), the OEC reaches the S4 state, which is highly unstable. S4 then spontaneously splits water, releasing oxygen, protons, and returning the OEC to its initial S0 state, ready to start the cycle again.\n",
      "\n",
      "**In Summary:** Water splitting, driven by the energy captured by PSII, provides the electrons needed to keep photosynthesis running, creates a proton gradient for ATP production, and generates the oxygen that sustains life on Earth.\n",
      "\n",
      "Ready to move on to the next step, or would you like me to clarify anything about water splitting?\n",
      "\n"
     ]
    },
    {
     "data": {
      "text/plain": [
       "'Okay, moving on to **Step 2: Water Splitting (Photolysis)**\\n\\nAfter light energy is captured by chlorophyll and passed to the reaction center of Photosystem II (PSII), this energy is used to split water molecules. Here\\'s a breakdown:\\n\\n*   **The Oxygen-Evolving Complex (OEC):** This is a crucial component within PSII. It\\'s a cluster of manganese, calcium, and oxygen atoms. This complex is the engine that drives water splitting. Think of it like the \"active site\" of an enzyme designed specifically for this reaction.\\n\\n*   **The Reaction:** The OEC catalyzes the following reaction:\\n\\n    2 H₂O  →  4 H⁺ + 4 e⁻ + O₂\\n\\n    In other words: Two molecules of water are split into four protons (H+), four electrons (e-), and one molecule of oxygen (O₂).\\n\\n*   **Why is water splitting so important?**\\n\\n    *   **Electron Source:** The electrons released from water are essential! These electrons are used to replenish the electrons lost by chlorophyll in PSII when it absorbs light energy. Remember, chlorophyll *donates* electrons when it gets energized, and it needs to get those electrons back to continue the process.\\n    *   **Proton Gradient:** The protons (H+) released contribute to a proton gradient across the thylakoid membrane. This gradient is vital for ATP synthesis (we\\'ll get to that in the next major phase).\\n    *   **Oxygen Production:** Finally, and most famously, this process releases oxygen (O₂) as a byproduct! This is the oxygen we breathe and is the origin of all the oxygen in the atmosphere.\\n\\n*   **The Mechanism (simplified):** The OEC goes through a series of oxidation states (called the S-states, S0 to S4). Each time PSII absorbs light, the OEC advances to the next oxidation state by extracting one electron from the water molecule. After four light absorption events (and four electron extractions), the OEC reaches the S4 state, which is highly unstable. S4 then spontaneously splits water, releasing oxygen, protons, and returning the OEC to its initial S0 state, ready to start the cycle again.\\n\\n**In Summary:** Water splitting, driven by the energy captured by PSII, provides the electrons needed to keep photosynthesis running, creates a proton gradient for ATP production, and generates the oxygen that sustains life on Earth.\\n\\nReady to move on to the next step, or would you like me to clarify anything about water splitting?\\n'"
      ]
     },
     "execution_count": 5,
     "metadata": {},
     "output_type": "execute_result"
    }
   ],
   "execution_count": 5
  },
  {
   "metadata": {},
   "cell_type": "markdown",
   "source": "# Example 2: Asynchronous Chaining",
   "id": "cea83c54b5884ae0"
  },
  {
   "metadata": {
    "ExecuteTime": {
     "end_time": "2025-03-23T17:07:46.771470Z",
     "start_time": "2025-03-23T17:07:46.767480Z"
    }
   },
   "cell_type": "code",
   "source": [
    "# Initialize the AgentWorkflow for asynchronous chaining\n",
    "agent = AgentWorkflow(operation=\"chaining\")\n",
    "\n",
    "# Define the query and input list\n",
    "query = \"Explain the process of photosynthesis.\"\n",
    "prompts = [\n",
    "    {\n",
    "        \"prompt\": \"Step 1: Light absorption\",\n",
    "        \"model\": model,\n",
    "        \"provider\": provider,\n",
    "        \"system_prompt\": \"You are a helpful assistant.\",\n",
    "        \"functions\": [str.lower]\n",
    "    },\n",
    "    {\n",
    "        \"prompt\": \"Step 2: Water splitting\",\n",
    "        \"model\": model,\n",
    "        \"provider\": provider,\n",
    "        \"system_prompt\": \"You are a helpful assistant.\",\n",
    "        \"functions\": [str.lower]\n",
    "    },\n",
    "    {\n",
    "        \"prompt\": \"Step 3: Oxygen release\",\n",
    "        \"model\": model,\n",
    "        \"provider\": provider,\n",
    "        \"system_prompt\": \"You are a helpful assistant.\",\n",
    "        \"functions\": [str.lower]\n",
    "    }\n",
    "]"
   ],
   "id": "b09ce4bd3a61fdc7",
   "outputs": [],
   "execution_count": 6
  },
  {
   "metadata": {},
   "cell_type": "code",
   "source": [
    "# Execute the workflow\n",
    "await agent.execute(query=query, prompts=prompts, async_mode=True)"
   ],
   "id": "56c7306c35ba72eb",
   "outputs": [],
   "execution_count": null
  },
  {
   "metadata": {},
   "cell_type": "markdown",
   "source": "# Example 3: Synchronous Parallelization",
   "id": "2144b9842cc194b"
  },
  {
   "metadata": {
    "ExecuteTime": {
     "end_time": "2025-03-23T17:07:50.143484Z",
     "start_time": "2025-03-23T17:07:50.141109Z"
    }
   },
   "cell_type": "code",
   "source": [
    "# Initialize the AgentWorkflow for parallelization\n",
    "agent = AgentWorkflow(operation=\"parallelization\")\n",
    "\n",
    "# Define the query and input list\n",
    "query = \"Analyze the following sentences.\"\n",
    "prompts = [\n",
    "    {\n",
    "        \"prompt\": \"Sentence 1: The quick brown fox jumps over the lazy dog.\",\n",
    "        \"model\": model,\n",
    "        \"provider\": provider,\n",
    "        \"system_prompt\": \"You are a helpful assistant.\",\n",
    "        \"functions\": [str.lower]\n",
    "    },\n",
    "    {\n",
    "        \"prompt\": \"Sentence 2: A journey of a thousand miles begins with a single step.\",\n",
    "        \"model\": model,\n",
    "        \"provider\": provider,\n",
    "        \"system_prompt\": \"You are a helpful assistant.\",\n",
    "        \"functions\": [str.lower]\n",
    "    }\n",
    "]"
   ],
   "id": "35a4724b519e6ffc",
   "outputs": [],
   "execution_count": 7
  },
  {
   "metadata": {
    "ExecuteTime": {
     "end_time": "2025-03-23T17:07:52.745633Z",
     "start_time": "2025-03-23T17:07:50.960881Z"
    }
   },
   "cell_type": "code",
   "source": [
    "# Execute the workflow\n",
    "agent.execute(query=query, prompts=prompts, n_workers=2)"
   ],
   "id": "7029c8f1c616b5e4",
   "outputs": [
    {
     "name": "stdout",
     "output_type": "stream",
     "text": [
      "Response: dict_keys(['candidates', 'create_time', 'response_id', 'model_version', 'prompt_feedback', 'usage_metadata', 'automatic_function_calling_history', 'parsed'])\n",
      "Model: gemini-2.0-flash\n",
      "Usage: cached_content_token_count=None candidates_token_count=174 prompt_token_count=30 total_token_count=204\n",
      "Response: dict_keys(['candidates', 'create_time', 'response_id', 'model_version', 'prompt_feedback', 'usage_metadata', 'automatic_function_calling_history', 'parsed'])\n",
      "Model: gemini-2.0-flash\n",
      "Usage: cached_content_token_count=None candidates_token_count=276 prompt_token_count=28 total_token_count=304\n",
      "\n",
      "Input: sentence 1: the quick brown fox jumps over the lazy dog.\n",
      "Result: Okay, I will analyze the sentence: \"The quick brown fox jumps over the lazy dog.\"\n",
      "\n",
      "Here's a breakdown:\n",
      "\n",
      "*   **Content:** This is a well-known pangram, meaning it contains every letter of the English alphabet. It's often used for testing fonts or typewriters.\n",
      "\n",
      "*   **Grammar:**\n",
      "    *   It's a grammatically correct sentence.\n",
      "    *   **Subject:** \"The quick brown fox\" (noun phrase)\n",
      "    *   **Verb:** \"jumps\"\n",
      "    *   **Prepositional Phrase:** \"over the lazy dog\" (adverbial phrase modifying the verb \"jumps\")\n",
      "    *   **Object of the Preposition:** \"the lazy dog\" (noun phrase)\n",
      "\n",
      "*   **Parts of Speech:**\n",
      "    *   The: article (definite)\n",
      "    *   quick: adjective\n",
      "    *   brown: adjective\n",
      "    *   fox: noun\n",
      "    *   jumps: verb\n",
      "    *   over: preposition\n",
      "    *   the: article (definite)\n",
      "    *   lazy: adjective\n",
      "    *   dog: noun\n",
      "\n",
      "*   **Meaning:** A fast fox of brown color leaps over a lethargic dog.\n",
      "\n",
      "In summary, it's a simple, declarative sentence that is notable for including all letters of the alphabet.\n",
      "\n",
      "\n",
      "Input: sentence 2: a journey of a thousand miles begins with a single step.\n",
      "Result: Okay, I will analyze the sentence: \"A journey of a thousand miles begins with a single step.\"\n",
      "\n",
      "Here's a breakdown:\n",
      "\n",
      "*   **Meaning:** This is a proverb that emphasizes the importance of starting, even if the goal seems distant or overwhelming. It highlights that any large accomplishment is achieved through a series of small, initial actions.\n",
      "\n",
      "*   **Figurative Language:** It's primarily a metaphor. The \"journey of a thousand miles\" represents any significant undertaking or goal, and the \"single step\" symbolizes the initial action or effort required to start.\n",
      "\n",
      "*   **Structure:** It's a simple, declarative sentence that is easy to understand and remember.\n",
      "\n",
      "*   **Impact:** It's a motivational and encouraging statement. It suggests that no matter how daunting a task may appear, taking the first step is crucial.\n",
      "\n"
     ]
    },
    {
     "data": {
      "text/plain": [
       "[('sentence 1: the quick brown fox jumps over the lazy dog.',\n",
       "  'Okay, I will analyze the sentence: \"The quick brown fox jumps over the lazy dog.\"\\n\\nHere\\'s a breakdown:\\n\\n*   **Content:** This is a well-known pangram, meaning it contains every letter of the English alphabet. It\\'s often used for testing fonts or typewriters.\\n\\n*   **Grammar:**\\n    *   It\\'s a grammatically correct sentence.\\n    *   **Subject:** \"The quick brown fox\" (noun phrase)\\n    *   **Verb:** \"jumps\"\\n    *   **Prepositional Phrase:** \"over the lazy dog\" (adverbial phrase modifying the verb \"jumps\")\\n    *   **Object of the Preposition:** \"the lazy dog\" (noun phrase)\\n\\n*   **Parts of Speech:**\\n    *   The: article (definite)\\n    *   quick: adjective\\n    *   brown: adjective\\n    *   fox: noun\\n    *   jumps: verb\\n    *   over: preposition\\n    *   the: article (definite)\\n    *   lazy: adjective\\n    *   dog: noun\\n\\n*   **Meaning:** A fast fox of brown color leaps over a lethargic dog.\\n\\nIn summary, it\\'s a simple, declarative sentence that is notable for including all letters of the alphabet.\\n'),\n",
       " ('sentence 2: a journey of a thousand miles begins with a single step.',\n",
       "  'Okay, I will analyze the sentence: \"A journey of a thousand miles begins with a single step.\"\\n\\nHere\\'s a breakdown:\\n\\n*   **Meaning:** This is a proverb that emphasizes the importance of starting, even if the goal seems distant or overwhelming. It highlights that any large accomplishment is achieved through a series of small, initial actions.\\n\\n*   **Figurative Language:** It\\'s primarily a metaphor. The \"journey of a thousand miles\" represents any significant undertaking or goal, and the \"single step\" symbolizes the initial action or effort required to start.\\n\\n*   **Structure:** It\\'s a simple, declarative sentence that is easy to understand and remember.\\n\\n*   **Impact:** It\\'s a motivational and encouraging statement. It suggests that no matter how daunting a task may appear, taking the first step is crucial.\\n')]"
      ]
     },
     "execution_count": 8,
     "metadata": {},
     "output_type": "execute_result"
    }
   ],
   "execution_count": 8
  },
  {
   "metadata": {},
   "cell_type": "markdown",
   "source": "# Example 4: Asynchronous Parallelization",
   "id": "301dc7a0e3078959"
  },
  {
   "metadata": {
    "ExecuteTime": {
     "end_time": "2025-03-23T17:08:01.359574Z",
     "start_time": "2025-03-23T17:08:01.356432Z"
    }
   },
   "cell_type": "code",
   "source": [
    "# Initialize the AgentWorkflow for asynchronous parallelization\n",
    "agent = AgentWorkflow(operation=\"parallelization\")\n",
    "\n",
    "# Define the query and input list\n",
    "query = \"Analyze the following sentences.\"\n",
    "prompts = [\n",
    "    {\n",
    "        \"prompt\": \"Sentence 1: The quick brown fox jumps over the lazy dog.\",\n",
    "        \"model\": model,\n",
    "        \"provider\": provider,\n",
    "        \"system_prompt\": \"You are a helpful assistant.\",\n",
    "        \"functions\": [str.lower]\n",
    "    },\n",
    "    {\n",
    "        \"prompt\": \"Sentence 2: A journey of a thousand miles begins with a single step.\",\n",
    "        \"model\": model,\n",
    "        \"provider\": provider,\n",
    "        \"system_prompt\": \"You are a helpful assistant.\",\n",
    "        \"functions\": [str.lower]\n",
    "    }\n",
    "]"
   ],
   "id": "6eec4a1cd544bd66",
   "outputs": [],
   "execution_count": 9
  },
  {
   "metadata": {
    "ExecuteTime": {
     "end_time": "2025-03-23T17:08:04.879023Z",
     "start_time": "2025-03-23T17:08:02.873443Z"
    }
   },
   "cell_type": "code",
   "source": [
    "# Execute the workflow\n",
    "await agent.execute(query=query, prompts=prompts, n_workers=2, async_mode=True)"
   ],
   "id": "173ab65ca6e697a6",
   "outputs": [
    {
     "name": "stdout",
     "output_type": "stream",
     "text": [
      "Response: dict_keys(['candidates', 'create_time', 'response_id', 'model_version', 'prompt_feedback', 'usage_metadata', 'automatic_function_calling_history', 'parsed'])\n",
      "Model: gemini-2.0-flash\n",
      "Usage: cached_content_token_count=None candidates_token_count=216 prompt_token_count=30 total_token_count=246\n",
      "Response: dict_keys(['candidates', 'create_time', 'response_id', 'model_version', 'prompt_feedback', 'usage_metadata', 'automatic_function_calling_history', 'parsed'])\n",
      "Model: gemini-2.0-flash\n",
      "Usage: cached_content_token_count=None candidates_token_count=293 prompt_token_count=28 total_token_count=321\n",
      "\n",
      "Input: sentence 1: the quick brown fox jumps over the lazy dog.\n",
      "Result: Okay, I will analyze the sentence: \"The quick brown fox jumps over the lazy dog.\"\n",
      "\n",
      "Here's a breakdown:\n",
      "\n",
      "*   **Grammatical Structure:** This is a simple declarative sentence. It follows the standard subject-verb-object (SVO) structure, although \"over the lazy dog\" acts as an adverbial phrase modifying the verb \"jumps.\"\n",
      "\n",
      "*   **Parts of Speech:**\n",
      "    *   *The:* Definite article\n",
      "    *   *quick:* Adjective\n",
      "    *   *brown:* Adjective\n",
      "    *   *fox:* Noun (subject)\n",
      "    *   *jumps:* Verb (action)\n",
      "    *   *over:* Preposition\n",
      "    *   *the:* Definite article\n",
      "    *   *lazy:* Adjective\n",
      "    *   *dog:* Noun (object of the preposition)\n",
      "\n",
      "*   **Meaning:** The sentence describes a fox, which is characterized as quick and brown, performing the action of jumping over a dog, which is characterized as lazy.\n",
      "\n",
      "*   **Common Usage:** This sentence is famous for being a *pangram*.\n",
      "\n",
      "*   **Pangram:** A pangram is a sentence that uses every letter of the alphabet at least once. This sentence is a well-known and concise example of a pangram in English. It's often used to test fonts or typewriters/keyboards to ensure that all letters are present and functional.\n",
      "\n",
      "Input: sentence 2: a journey of a thousand miles begins with a single step.\n",
      "Result: Okay, I will analyze the sentence: \"A journey of a thousand miles begins with a single step.\"\n",
      "\n",
      "Here's a breakdown:\n",
      "\n",
      "*   **Meaning:** This is a proverb that emphasizes the importance of starting, even with something small, to achieve a large or long-term goal. It highlights that any accomplishment, no matter how grand, requires an initial action.\n",
      "*   **Structure:** It's a simple, declarative sentence.\n",
      "*   **Figurative Language:** It's primarily metaphorical. The \"journey of a thousand miles\" represents a significant undertaking, and the \"single step\" represents the initial action needed to start that undertaking.\n",
      "*   **Tone:** Motivational, encouraging, and wise.\n",
      "*   **Keywords:** \"Journey,\" \"thousand miles,\" \"begins,\" \"single step.\" These words are key to understanding the proverb's meaning.\n",
      "*   **Purpose:** To inspire action and perseverance. It reminds us not to be overwhelmed by the magnitude of a goal, but to focus on taking the first step.\n",
      "\n"
     ]
    },
    {
     "data": {
      "text/plain": [
       "[('sentence 1: the quick brown fox jumps over the lazy dog.',\n",
       "  'Okay, I will analyze the sentence: \"The quick brown fox jumps over the lazy dog.\"\\n\\nHere\\'s a breakdown:\\n\\n*   **Grammatical Structure:** This is a simple declarative sentence. It follows the standard subject-verb-object (SVO) structure, although \"over the lazy dog\" acts as an adverbial phrase modifying the verb \"jumps.\"\\n\\n*   **Parts of Speech:**\\n    *   *The:* Definite article\\n    *   *quick:* Adjective\\n    *   *brown:* Adjective\\n    *   *fox:* Noun (subject)\\n    *   *jumps:* Verb (action)\\n    *   *over:* Preposition\\n    *   *the:* Definite article\\n    *   *lazy:* Adjective\\n    *   *dog:* Noun (object of the preposition)\\n\\n*   **Meaning:** The sentence describes a fox, which is characterized as quick and brown, performing the action of jumping over a dog, which is characterized as lazy.\\n\\n*   **Common Usage:** This sentence is famous for being a *pangram*.\\n\\n*   **Pangram:** A pangram is a sentence that uses every letter of the alphabet at least once. This sentence is a well-known and concise example of a pangram in English. It\\'s often used to test fonts or typewriters/keyboards to ensure that all letters are present and functional.'),\n",
       " ('sentence 2: a journey of a thousand miles begins with a single step.',\n",
       "  'Okay, I will analyze the sentence: \"A journey of a thousand miles begins with a single step.\"\\n\\nHere\\'s a breakdown:\\n\\n*   **Meaning:** This is a proverb that emphasizes the importance of starting, even with something small, to achieve a large or long-term goal. It highlights that any accomplishment, no matter how grand, requires an initial action.\\n*   **Structure:** It\\'s a simple, declarative sentence.\\n*   **Figurative Language:** It\\'s primarily metaphorical. The \"journey of a thousand miles\" represents a significant undertaking, and the \"single step\" represents the initial action needed to start that undertaking.\\n*   **Tone:** Motivational, encouraging, and wise.\\n*   **Keywords:** \"Journey,\" \"thousand miles,\" \"begins,\" \"single step.\" These words are key to understanding the proverb\\'s meaning.\\n*   **Purpose:** To inspire action and perseverance. It reminds us not to be overwhelmed by the magnitude of a goal, but to focus on taking the first step.\\n')]"
      ]
     },
     "execution_count": 10,
     "metadata": {},
     "output_type": "execute_result"
    }
   ],
   "execution_count": 10
  },
  {
   "metadata": {},
   "cell_type": "markdown",
   "source": "# Exaplme 5: Synchronous Routing",
   "id": "5d8ab9055f49e2cc"
  },
  {
   "metadata": {
    "ExecuteTime": {
     "end_time": "2025-03-23T22:06:05.353424Z",
     "start_time": "2025-03-23T22:06:05.347148Z"
    }
   },
   "cell_type": "code",
   "source": [
    "# Initialize the AgentWorkflow for routing\n",
    "agent = AgentWorkflow(operation=\"routing\")\n",
    "\n",
    "# Define the query, routes, and selector template\n",
    "prompt = {\n",
    "    \"prompt\": \"How did the Industrial Revolution impact society?\",\n",
    "    \"model\": model,\n",
    "    \"provider\": provider,\n",
    "    \"system_prompt\": \"You are a helpful assistant.\",\n",
    "    \"functions\": [str.lower]\n",
    "}\n",
    "\n",
    "routes = {\n",
    "    \"math_tutor\": {\n",
    "        \"prompt\": \"\"\"\n",
    "        You are a math tutor. Follow these guidelines:\n",
    "        1. Always start with \"Math Tutor Response:\"\n",
    "        2. Acknowledge the specific math topic\n",
    "        3. Provide clear explanations and examples\n",
    "        4. Suggest additional resources or exercises\n",
    "        5. Encourage the student to ask further questions\n",
    "\n",
    "        Maintain a supportive and encouraging tone.\n",
    "        \"\"\",\n",
    "        \"model\": model,\n",
    "        \"provider\": provider,\n",
    "        \"system_prompt\": \"You are a helpful assistant.\",\n",
    "        \"functions\": [str.lower]\n",
    "    },\n",
    "    \"science_tutor\": {\n",
    "        \"prompt\": \"\"\"\n",
    "        You are a science tutor. Follow these guidelines:\n",
    "        1. Always start with \"Science Tutor Response:\"\n",
    "        2. Acknowledge the specific science topic\n",
    "        3. Provide clear explanations and examples\n",
    "        4. Suggest additional resources or experiments\n",
    "        5. Encourage the student to ask further questions\n",
    "\n",
    "        Maintain a supportive and encouraging tone.\n",
    "        \"\"\",\n",
    "        \"model\": model2,\n",
    "        \"provider\": provider2,\n",
    "        \"system_prompt\": \"You are a helpful assistant.\",\n",
    "        \"functions\": [str.lower]\n",
    "    },\n",
    "    \"english_tutor\": {\n",
    "        \"prompt\": \"\"\"\n",
    "        You are an English tutor. Follow these guidelines:\n",
    "        1. Always start with \"English Tutor Response:\"\n",
    "        2. Acknowledge the specific English topic\n",
    "        3. Provide clear explanations and examples\n",
    "        4. Suggest additional resources or exercises\n",
    "        5. Encourage the student to ask further questions\n",
    "\n",
    "        Maintain a supportive and encouraging tone.\n",
    "        \"\"\",\n",
    "        \"model\": model,\n",
    "        \"provider\": provider,\n",
    "        \"system_prompt\": \"You are a helpful assistant.\",\n",
    "        \"functions\": [str.lower]\n",
    "    },\n",
    "    \"history_tutor\": {\n",
    "        \"prompt\": \"\"\"\n",
    "        You are a history tutor. Follow these guidelines:\n",
    "        1. Always start with \"History Tutor Response:\"\n",
    "        2. Acknowledge the specific history topic\n",
    "        3. Provide clear explanations and examples\n",
    "        4. Suggest additional resources or readings\n",
    "        5. Encourage the student to ask further questions\n",
    "\n",
    "        Maintain a supportive and encouraging tone.\n",
    "        \"\"\",\n",
    "        \"model\": model2,\n",
    "        \"provider\": provider2,\n",
    "        \"system_prompt\": \"You are a helpful assistant.\",\n",
    "        \"functions\": [str.lower]\n",
    "    }\n",
    "}\n",
    "\n",
    "route_prompt = \"Analyze the input and select the most appropriate tutor.\"\n",
    "\n",
    "reasoning_prompt = (\"Brief explanation of why this question should be routed to a specific tutor. \"\n",
    "                    \"Consider key terms, user intent, and urgency level.\")"
   ],
   "id": "416ede3556dc669",
   "outputs": [],
   "execution_count": 4
  },
  {
   "metadata": {
    "ExecuteTime": {
     "end_time": "2025-03-23T22:06:32.541496Z",
     "start_time": "2025-03-23T22:06:06.082671Z"
    }
   },
   "cell_type": "code",
   "source": [
    "# Execute the workflow asynchronously\n",
    "agent.execute(prompts=prompt, reasoning_prompt=reasoning_prompt, route_prompt=route_prompt, routes=routes)"
   ],
   "id": "6188adf9b714f3e2",
   "outputs": [
    {
     "name": "stdout",
     "output_type": "stream",
     "text": [
      "\n",
      "Available routes: ['math_tutor', 'science_tutor', 'english_tutor', 'history_tutor']\n",
      "Response: dict_keys(['candidates', 'create_time', 'response_id', 'model_version', 'prompt_feedback', 'usage_metadata', 'automatic_function_calling_history', 'parsed'])\n",
      "Model: gemini-2.0-flash\n",
      "Usage: cached_content_token_count=None candidates_token_count=93 prompt_token_count=122 total_token_count=215\n",
      "\n",
      "Routing Analysis:\n",
      "Reasoning: \n",
      "The question explicitly asks about the impact of the Industrial Revolution on society. This falls squarely within the domain of history, making the history tutor the most suitable choice.\n",
      "\n",
      "Selection: history_tutor\n",
      "Model: ollama-deepseek-r1:1.5b\n",
      "Response: dict_keys(['model', 'created_at', 'done', 'done_reason', 'total_duration', 'load_duration', 'prompt_eval_count', 'prompt_eval_duration', 'eval_count', 'eval_duration', 'response', 'context'])\n",
      "Using model: deepseek-r1:1.5b\n",
      "Result: <think>\n",
      "Alright, so I need to figure out how the Industrial Revolution affected society. Hmm, okay, where do I start? I remember hearing that the Industrial Revolution was a big thing around 1700-1800, and it changed a lot in history. But I'm not exactly sure what specific changes happened or how they impacted different parts of society.\n",
      "\n",
      "First, let me think about what causes the Industrial Revolution. From what I know, it started with factories popping up, which was a massive change because before that, everything was probably hand-made and in small quantities. So, maybe there were problems with resources—like raw materials being scarce. That could lead to economic issues, right?\n",
      "\n",
      "I also remember something about trade going up after the revolution. People could buy goods from around the world more easily because factories made stuff you couldn't get otherwise. But wait, if trade did go up, wouldn’t that make things more efficient? Maybe that led to technological advancements and improvements in how people worked together, like using machinery and factories for mass production.\n",
      "\n",
      "Another thing I think about is social changes. People might have moved to cities or towns because of the influx of factories. That would mean a bigger population in cities which could affect urbanization. Also, maybe working conditions improved as more people moved to factories with better facilities, leading to a redistribution of jobs and income.\n",
      "\n",
      "Environmental issues also came up. Resources like water and food were probably limited before the revolution. So, they had to find new sources or make trade-offs. Maybe that led to more environmental problems in the future because resources couldn’t meet demand anymore.\n",
      "\n",
      "I should check if I'm missing any points. Oh, maybe how society restructured itself with the rise of mass production leading to changes in classes and economies? That would mean a middle class and potentially a working class. Also, there might have been challenges like labor shortages or unfair working conditions in factories that could lead to social unrest.\n",
      "\n",
      "Wait, is it important to mention both urbanization and rural areas? Or did I mix that up? The Industrial Revolution started with cities growing, so maybe the focus was more on the urban aspect. But perhaps the overall societal changes included both urbanization and regional adjustments as part of it.\n",
      "\n",
      "I think I've covered a lot of points: resource issues, trade increases, social structure changes, environmental impacts, and economic restructuring. Now, how can I explain this in a way that's clear and not too technical? Maybe break it down into these key areas with brief explanations for each.\n",
      "</think>\n",
      "\n",
      "**How the Industrial Revolution Shaped Society**\n",
      "\n",
      "The Industrial Revolution, spanning 1700-1800, marked a significant transformation across various aspects of society. Here are the key impacts:\n",
      "\n",
      "1. **Resource Scarcity and Economic Challenges**: The rise of factories in large quantities led to increased reliance on raw materials, causing economic issues such as shortages. This shift disrupted traditional economies centered in agriculture.\n",
      "\n",
      "2. **Increased Trade and Efficiency**: With more resources available globally, trade expanded, offering easier access to goods from distant regions. This facilitated technological advancements and improvements in resource utilization, leading to more efficient production methods.\n",
      "\n",
      "3. **Social Structure and Urbanization**: The influx of factories attracted people to cities, resulting in urban growth. This period also saw significant population movements, particularly from rural areas, as the shift towards mass production intensified.\n",
      "\n",
      "4. **Environmental Challenges**: Limited resources necessitated new sources or trade-offs, exacerbating environmental issues as demand for essential goods increased, leading to potential future problems.\n",
      "\n",
      "5. **Economic Restructuring and Labor Dynamics**: The rise of mass production led to economic restructuring, creating roles such as factory workers and reshaping the labor market. This period also faced challenges like labor shortages and unfair working conditions in factories.\n",
      "\n",
      "In summary, the Industrial Revolution reshaped society by driving urbanization, efficiency improvements, social structure changes, and environmental challenges. It laid the groundwork for modern economies and technological advancements, influencing class distributions and the way people worked together.\n"
     ]
    },
    {
     "data": {
      "text/plain": [
       "\"<think>\\nAlright, so I need to figure out how the Industrial Revolution affected society. Hmm, okay, where do I start? I remember hearing that the Industrial Revolution was a big thing around 1700-1800, and it changed a lot in history. But I'm not exactly sure what specific changes happened or how they impacted different parts of society.\\n\\nFirst, let me think about what causes the Industrial Revolution. From what I know, it started with factories popping up, which was a massive change because before that, everything was probably hand-made and in small quantities. So, maybe there were problems with resources—like raw materials being scarce. That could lead to economic issues, right?\\n\\nI also remember something about trade going up after the revolution. People could buy goods from around the world more easily because factories made stuff you couldn't get otherwise. But wait, if trade did go up, wouldn’t that make things more efficient? Maybe that led to technological advancements and improvements in how people worked together, like using machinery and factories for mass production.\\n\\nAnother thing I think about is social changes. People might have moved to cities or towns because of the influx of factories. That would mean a bigger population in cities which could affect urbanization. Also, maybe working conditions improved as more people moved to factories with better facilities, leading to a redistribution of jobs and income.\\n\\nEnvironmental issues also came up. Resources like water and food were probably limited before the revolution. So, they had to find new sources or make trade-offs. Maybe that led to more environmental problems in the future because resources couldn’t meet demand anymore.\\n\\nI should check if I'm missing any points. Oh, maybe how society restructured itself with the rise of mass production leading to changes in classes and economies? That would mean a middle class and potentially a working class. Also, there might have been challenges like labor shortages or unfair working conditions in factories that could lead to social unrest.\\n\\nWait, is it important to mention both urbanization and rural areas? Or did I mix that up? The Industrial Revolution started with cities growing, so maybe the focus was more on the urban aspect. But perhaps the overall societal changes included both urbanization and regional adjustments as part of it.\\n\\nI think I've covered a lot of points: resource issues, trade increases, social structure changes, environmental impacts, and economic restructuring. Now, how can I explain this in a way that's clear and not too technical? Maybe break it down into these key areas with brief explanations for each.\\n</think>\\n\\n**How the Industrial Revolution Shaped Society**\\n\\nThe Industrial Revolution, spanning 1700-1800, marked a significant transformation across various aspects of society. Here are the key impacts:\\n\\n1. **Resource Scarcity and Economic Challenges**: The rise of factories in large quantities led to increased reliance on raw materials, causing economic issues such as shortages. This shift disrupted traditional economies centered in agriculture.\\n\\n2. **Increased Trade and Efficiency**: With more resources available globally, trade expanded, offering easier access to goods from distant regions. This facilitated technological advancements and improvements in resource utilization, leading to more efficient production methods.\\n\\n3. **Social Structure and Urbanization**: The influx of factories attracted people to cities, resulting in urban growth. This period also saw significant population movements, particularly from rural areas, as the shift towards mass production intensified.\\n\\n4. **Environmental Challenges**: Limited resources necessitated new sources or trade-offs, exacerbating environmental issues as demand for essential goods increased, leading to potential future problems.\\n\\n5. **Economic Restructuring and Labor Dynamics**: The rise of mass production led to economic restructuring, creating roles such as factory workers and reshaping the labor market. This period also faced challenges like labor shortages and unfair working conditions in factories.\\n\\nIn summary, the Industrial Revolution reshaped society by driving urbanization, efficiency improvements, social structure changes, and environmental challenges. It laid the groundwork for modern economies and technological advancements, influencing class distributions and the way people worked together.\""
      ]
     },
     "execution_count": 5,
     "metadata": {},
     "output_type": "execute_result"
    }
   ],
   "execution_count": 5
  },
  {
   "metadata": {},
   "cell_type": "markdown",
   "source": "# Example 6: Asynchronous Routing",
   "id": "35f87bd31dc9ed90"
  },
  {
   "metadata": {
    "ExecuteTime": {
     "end_time": "2025-03-23T22:06:32.594679Z",
     "start_time": "2025-03-23T22:06:32.590241Z"
    }
   },
   "cell_type": "code",
   "source": [
    "# Initialize the AgentWorkflow for asynchronous routing\n",
    "agent = AgentWorkflow(operation=\"routing\")\n",
    "\n",
    "# Define the query, routes, and selector template\n",
    "prompt = {\n",
    "    \"prompt\": \"How did the Industrial Revolution impact society?\",\n",
    "    \"model\": model,\n",
    "    \"provider\": provider,\n",
    "    \"system_prompt\": \"You are a helpful assistant.\",\n",
    "    \"functions\": [str.lower]\n",
    "}\n",
    "\n",
    "routes = {\n",
    "    \"math_tutor\": {\n",
    "        \"prompt\": \"\"\"\n",
    "            You are a math tutor. Follow these guidelines:\n",
    "            1. Always start with \"Math Tutor Response:\"\n",
    "            2. Acknowledge the specific math topic\n",
    "            3. Provide clear explanations and examples\n",
    "            4. Suggest additional resources or exercises\n",
    "            5. Encourage the student to ask further questions\n",
    "\n",
    "            Maintain a supportive and encouraging tone.\n",
    "            \"\"\",\n",
    "        \"model\": model,\n",
    "        \"provider\": provider,\n",
    "        \"system_prompt\": \"You are a helpful assistant.\",\n",
    "        \"functions\": [str.lower]\n",
    "    },\n",
    "    \"science_tutor\": {\n",
    "        \"prompt\": \"\"\"\n",
    "            You are a science tutor. Follow these guidelines:\n",
    "            1. Always start with \"Science Tutor Response:\"\n",
    "            2. Acknowledge the specific science topic\n",
    "            3. Provide clear explanations and examples\n",
    "            4. Suggest additional resources or experiments\n",
    "            5. Encourage the student to ask further questions\n",
    "\n",
    "            Maintain a supportive and encouraging tone.\n",
    "            \"\"\",\n",
    "        \"model\": model2,\n",
    "        \"provider\": provider2,\n",
    "        \"system_prompt\": \"You are a helpful assistant.\",\n",
    "        \"functions\": [str.lower]\n",
    "    },\n",
    "    \"english_tutor\": {\n",
    "        \"prompt\": \"\"\"\n",
    "            You are an English tutor. Follow these guidelines:\n",
    "            1. Always start with \"English Tutor Response:\"\n",
    "            2. Acknowledge the specific English topic\n",
    "            3. Provide clear explanations and examples\n",
    "            4. Suggest additional resources or exercises\n",
    "            5. Encourage the student to ask further questions\n",
    "\n",
    "            Maintain a supportive and encouraging tone.\n",
    "            \"\"\",\n",
    "        \"model\": model,\n",
    "        \"provider\": provider,\n",
    "        \"system_prompt\": \"You are a helpful assistant.\",\n",
    "        \"functions\": [str.lower]\n",
    "    },\n",
    "    \"history_tutor\": {\n",
    "        \"prompt\": \"\"\"\n",
    "            You are a history tutor. Follow these guidelines:\n",
    "            1. Always start with \"History Tutor Response:\"\n",
    "            2. Acknowledge the specific history topic\n",
    "            3. Provide clear explanations and examples\n",
    "            4. Suggest additional resources or readings\n",
    "            5. Encourage the student to ask further questions\n",
    "\n",
    "            Maintain a supportive and encouraging tone.\n",
    "            \"\"\",\n",
    "        \"model\": model2,\n",
    "        \"provider\": provider2,\n",
    "        \"system_prompt\": \"You are a helpful assistant.\",\n",
    "        \"functions\": [str.lower]\n",
    "    }\n",
    "}\n",
    "\n",
    "route_prompt = \"Analyze the input and select the most appropriate tutor.\"\n",
    "\n",
    "reasoning_prompt = (\"Brief explanation of why this question should be routed to a specific tutor. \"\n",
    "                    \"Consider key terms, user intent, and urgency level.\")"
   ],
   "id": "f87079420f6bd506",
   "outputs": [],
   "execution_count": 6
  },
  {
   "metadata": {
    "ExecuteTime": {
     "end_time": "2025-03-23T22:06:59.921328Z",
     "start_time": "2025-03-23T22:06:32.638945Z"
    }
   },
   "cell_type": "code",
   "source": [
    "# Execute the workflow\n",
    "await agent.execute(prompts=prompt, reasoning_prompt=reasoning_prompt, route_prompt=route_prompt, routes=routes, async_mode=True)"
   ],
   "id": "a4f39406e4214a0b",
   "outputs": [
    {
     "name": "stdout",
     "output_type": "stream",
     "text": [
      "\n",
      "Available routes: ['math_tutor', 'science_tutor', 'english_tutor', 'history_tutor']\n",
      "Response: dict_keys(['candidates', 'create_time', 'response_id', 'model_version', 'prompt_feedback', 'usage_metadata', 'automatic_function_calling_history', 'parsed'])\n",
      "Model: gemini-2.0-flash\n",
      "Usage: cached_content_token_count=None candidates_token_count=94 prompt_token_count=122 total_token_count=216\n",
      "\n",
      "Routing Analysis:\n",
      "Reasoning: \n",
      "The question explicitly asks about the impact of the Industrial Revolution on society, which is a core topic in history. The user is seeking information about a historical event and its consequences.\n",
      "\n",
      "Selection: history_tutor\n",
      "Model: ollama-deepseek-r1:1.5b\n",
      "Response: dict_keys(['model', 'created_at', 'done', 'done_reason', 'total_duration', 'load_duration', 'prompt_eval_count', 'prompt_eval_duration', 'eval_count', 'eval_duration', 'response', 'context'])\n",
      "Using model: deepseek-r1:1.5b\n",
      "Result: <think>\n",
      "Okay, so I need to figure out how the Industrial Revolution impacted society. Hmm, let me start by recalling what I know about this. The Industrial Revolution was a big movement around 18th to early 19th centuries where people worked longer hours, started factories, and used machines instead of animals. That must have changed a lot.\n",
      "\n",
      "First, health probably was affected. People were working more hours, right? So they ate fewer meals and could eat faster. That might make them sick or require better healthcare. But I also remember that many diseases from the 1700s were common in people who worked long hours. Maybe it made public health worse during this time?\n",
      "\n",
      "Next, education probably increased a lot. People had more access to schools because of industrialization. Teachers were paid less, but they kept teaching longer. That could have led to better learning and maybe even better skills overall.\n",
      "\n",
      "Technology must be a big part of it too. Machines started showing up everywhere. Tools like sewing machines became important, which people didn't have before. I think tools made daily tasks easier and more efficient, so society needed more things built with them.\n",
      "\n",
      "Then there's the rise of the middle class. People had better jobs because factories were around. Maybe they could earn more money than others, especially during the economic downturns when people lost their jobs. They probably became prosperous because the economy changed a lot in their favor.\n",
      "\n",
      "Social structures must have changed too. Families might have shared more responsibilities since parents worked long hours. Maybe it made family life less happy or caused conflict between partners.\n",
      "\n",
      "The concept of class struggle came up, I think. People were fighting over jobs and resources because factories made it easier for some people to earn money while others couldn't afford to work as much. This could have led to inequality in society.\n",
      "\n",
      "Cultural changes might also have happened. The way people worked, ate, and lived changed a lot. Maybe there was more emphasis on practical skills or efficiency in their daily lives since the factory system was efficient.\n",
      "\n",
      "I should check if I'm missing anything here. Was there any negative impact? I don't remember exactly, but health issues during the Industrial Revolution were worse compared to earlier times because of longer exposure. But then again, long-term health was also changing as people ate more and worked harder.\n",
      "\n",
      "Other areas could include how this affected different groups in society—like the working class vs. the industrial workers. It might have made both groups unhappy or led to changes within each group.\n",
      "\n",
      "I think I've covered the main points: increased laboriousness, better healthcare, better education, technological advancements, middle-class growth, social inequalities, cultural shifts, and perhaps some negative impacts on health during that time. Let me see if I can organize this into a clear explanation.\n",
      "</think>\n",
      "\n",
      "**The Impact of the Industrial Revolution on Society**\n",
      "\n",
      "The Industrial Revolution (18th to early 19th centuries) profoundly altered society in multiple dimensions:\n",
      "\n",
      "1. **Health and Well-being**: Working longer hours led to faster meals and increased risk of illness, worsening public health issues prevalent during the time. This contrasted with earlier diseases associated with long-term exposure.\n",
      "\n",
      "2. **Education Expansion**: The movement facilitated increased access to education, allowing more people to attend schools and teachers to work longer shifts, enhancing overall learning efficiency and skill development.\n",
      "\n",
      "3. **Technology Advancements**: Machines like sewing machines became essential tools, streamlining production and daily tasks, thus modernizing society by enabling better living conditions.\n",
      "\n",
      "4. **Rise of the Middle Class**: The labor movement led to a surge in middle-class prosperity as factory jobs became more accessible. People could earn more than others, particularly during economic downturns.\n",
      "\n",
      "5. **Social Structures**: Social dynamics changed with families sharing responsibilities and the rise of inequality between partners, potentially leading to conflict within families and society.\n",
      "\n",
      "6. **Class Struggle**: The movement created tension over job opportunities and resources, driving competition among workers and classes, especially during economic times of instability.\n",
      "\n",
      "7. **Cultural Shifts**: Society evolved with a focus on practical skills and efficiency in daily living due to factory efficiency, influencing future work practices.\n",
      "\n",
      "8. **Negative Health Effects (post-industrial)**: While long-term health improved, the exposure to more machines led to concerns about chronic diseases and ill health, though this period was unique compared to earlier years.\n",
      "\n",
      "This period marked a significant transformation of societal structures, economic opportunities, and daily living, reshaping future generations' experiences.\n"
     ]
    },
    {
     "data": {
      "text/plain": [
       "\"<think>\\nOkay, so I need to figure out how the Industrial Revolution impacted society. Hmm, let me start by recalling what I know about this. The Industrial Revolution was a big movement around 18th to early 19th centuries where people worked longer hours, started factories, and used machines instead of animals. That must have changed a lot.\\n\\nFirst, health probably was affected. People were working more hours, right? So they ate fewer meals and could eat faster. That might make them sick or require better healthcare. But I also remember that many diseases from the 1700s were common in people who worked long hours. Maybe it made public health worse during this time?\\n\\nNext, education probably increased a lot. People had more access to schools because of industrialization. Teachers were paid less, but they kept teaching longer. That could have led to better learning and maybe even better skills overall.\\n\\nTechnology must be a big part of it too. Machines started showing up everywhere. Tools like sewing machines became important, which people didn't have before. I think tools made daily tasks easier and more efficient, so society needed more things built with them.\\n\\nThen there's the rise of the middle class. People had better jobs because factories were around. Maybe they could earn more money than others, especially during the economic downturns when people lost their jobs. They probably became prosperous because the economy changed a lot in their favor.\\n\\nSocial structures must have changed too. Families might have shared more responsibilities since parents worked long hours. Maybe it made family life less happy or caused conflict between partners.\\n\\nThe concept of class struggle came up, I think. People were fighting over jobs and resources because factories made it easier for some people to earn money while others couldn't afford to work as much. This could have led to inequality in society.\\n\\nCultural changes might also have happened. The way people worked, ate, and lived changed a lot. Maybe there was more emphasis on practical skills or efficiency in their daily lives since the factory system was efficient.\\n\\nI should check if I'm missing anything here. Was there any negative impact? I don't remember exactly, but health issues during the Industrial Revolution were worse compared to earlier times because of longer exposure. But then again, long-term health was also changing as people ate more and worked harder.\\n\\nOther areas could include how this affected different groups in society—like the working class vs. the industrial workers. It might have made both groups unhappy or led to changes within each group.\\n\\nI think I've covered the main points: increased laboriousness, better healthcare, better education, technological advancements, middle-class growth, social inequalities, cultural shifts, and perhaps some negative impacts on health during that time. Let me see if I can organize this into a clear explanation.\\n</think>\\n\\n**The Impact of the Industrial Revolution on Society**\\n\\nThe Industrial Revolution (18th to early 19th centuries) profoundly altered society in multiple dimensions:\\n\\n1. **Health and Well-being**: Working longer hours led to faster meals and increased risk of illness, worsening public health issues prevalent during the time. This contrasted with earlier diseases associated with long-term exposure.\\n\\n2. **Education Expansion**: The movement facilitated increased access to education, allowing more people to attend schools and teachers to work longer shifts, enhancing overall learning efficiency and skill development.\\n\\n3. **Technology Advancements**: Machines like sewing machines became essential tools, streamlining production and daily tasks, thus modernizing society by enabling better living conditions.\\n\\n4. **Rise of the Middle Class**: The labor movement led to a surge in middle-class prosperity as factory jobs became more accessible. People could earn more than others, particularly during economic downturns.\\n\\n5. **Social Structures**: Social dynamics changed with families sharing responsibilities and the rise of inequality between partners, potentially leading to conflict within families and society.\\n\\n6. **Class Struggle**: The movement created tension over job opportunities and resources, driving competition among workers and classes, especially during economic times of instability.\\n\\n7. **Cultural Shifts**: Society evolved with a focus on practical skills and efficiency in daily living due to factory efficiency, influencing future work practices.\\n\\n8. **Negative Health Effects (post-industrial)**: While long-term health improved, the exposure to more machines led to concerns about chronic diseases and ill health, though this period was unique compared to earlier years.\\n\\nThis period marked a significant transformation of societal structures, economic opportunities, and daily living, reshaping future generations' experiences.\""
      ]
     },
     "execution_count": 7,
     "metadata": {},
     "output_type": "execute_result"
    }
   ],
   "execution_count": 7
  },
  {
   "metadata": {},
   "cell_type": "markdown",
   "source": "# Example 7: Synchronous Adaptive",
   "id": "dfd246848e701a25"
  },
  {
   "metadata": {
    "ExecuteTime": {
     "end_time": "2025-03-23T17:10:17.743826Z",
     "start_time": "2025-03-23T17:10:17.738141Z"
    }
   },
   "cell_type": "code",
   "source": [
    "# Initialize the AgentWorkflow for adaptive workflow\n",
    "agent = AgentWorkflow(operation=\"adaptive\")\n",
    "\n",
    "# Define the evaluator and generator prompt details\n",
    "evaluator_prompt_details = {\n",
    "    \"prompt\": \"\"\"\n",
    "    Evaluate the following code implementation for:\n",
    "    1. code correctness\n",
    "    2. efficiency\n",
    "    3. adherence to design patterns\n",
    "    4. pep8 compliance\n",
    "    \"\"\",\n",
    "    \"model\": model,\n",
    "    \"provider\": provider,\n",
    "    \"system_prompt\": \"You are a helpful assistant.\",\n",
    "    \"functions\": [str.lower]\n",
    "}\n",
    "\n",
    "generator_prompt_details = {\n",
    "    \"prompt\": \"\"\"\n",
    "    Your goal is to complete the task based on the context and provide feedback on how you \\\n",
    "    should reflect on them to improve your solution.\n",
    "    \"\"\",\n",
    "    \"model\": model3,\n",
    "    \"provider\": provider3,\n",
    "    \"system_prompt\": \"You are a helpful assistant.\",\n",
    "    \"functions\": [str.lower]\n",
    "}\n",
    "\n",
    "ratings = [\"PASS\", \"NEEDS_IMPROVEMENT\", \"FAIL\"]\n",
    "\n",
    "task = \"\"\"\n",
    "Implement a Queue with:\n",
    "1. enqueue(x)\n",
    "2. dequeue()\n",
    "3. getFront()\n",
    "All operations should be O(1).\n",
    "\"\"\""
   ],
   "id": "a5432bd8de8b931f",
   "outputs": [],
   "execution_count": 16
  },
  {
   "metadata": {},
   "cell_type": "code",
   "outputs": [],
   "execution_count": null,
   "source": [
    "result, chain_of_thought = agent.execute(\n",
    "    evaluator_prompt=evaluator_prompt_details,\n",
    "    generator_prompt=generator_prompt_details,\n",
    "    ratings=ratings,\n",
    "    task=task,\n",
    "    max_iterations=5\n",
    ")"
   ],
   "id": "66a5c548bce02f54"
  },
  {
   "metadata": {},
   "cell_type": "code",
   "outputs": [],
   "execution_count": null,
   "source": [
    "print(result)\n",
    "print(chain_of_thought)"
   ],
   "id": "2bffe92c1ffef04"
  },
  {
   "metadata": {},
   "cell_type": "markdown",
   "source": "# Example 8: Asynchronous Adaptive",
   "id": "e90b5f49bd19ff89"
  },
  {
   "metadata": {
    "ExecuteTime": {
     "end_time": "2025-03-23T17:10:33.863619Z",
     "start_time": "2025-03-23T17:10:33.860557Z"
    }
   },
   "cell_type": "code",
   "source": [
    "# Initialize the AgentWorkflow for asynchronous adaptive workflow\n",
    "agent = AgentWorkflow(operation=\"adaptive\")\n",
    "\n",
    "# Define the evaluator and generator prompt details\n",
    "evaluator_prompt_details = {\n",
    "    \"prompt\": \"\"\"\n",
    "    Evaluate the following code implementation for:\n",
    "    1. code correctness\n",
    "    2. efficiency\n",
    "    3. adherence to design patterns\n",
    "    4. pep8 compliance\n",
    "    \"\"\",\n",
    "    \"model\": model,\n",
    "    \"provider\": provider,\n",
    "    \"system_prompt\": \"You are a helpful assistant.\",\n",
    "    \"functions\": [str.lower]\n",
    "}\n",
    "\n",
    "generator_prompt_details = {\n",
    "    \"prompt\": \"\"\"\n",
    "    Your goal is to complete the task based on the context and provide feedback on how you \\\n",
    "    should reflect on them to improve your solution.\n",
    "    \"\"\",\n",
    "    \"model\": model3,\n",
    "    \"provider\": provider3,\n",
    "    \"system_prompt\": \"You are a helpful assistant.\",\n",
    "    \"functions\": [str.lower]\n",
    "}\n",
    "\n",
    "ratings = [\"PASS\", \"NEEDS_IMPROVEMENT\", \"FAIL\"]\n",
    "\n",
    "task = \"\"\"\n",
    "Implement a Queue with:\n",
    "1. enqueue(x)\n",
    "2. dequeue()\n",
    "3. getFront()\n",
    "All operations should be O(1).\n",
    "\"\"\""
   ],
   "id": "ff21207e7708d9fc",
   "outputs": [],
   "execution_count": 19
  },
  {
   "metadata": {},
   "cell_type": "code",
   "outputs": [],
   "execution_count": null,
   "source": [
    "# Execute the workflow asynchronously\n",
    "result, chain_of_thought = await agent.execute(\n",
    "    evaluator_prompt=evaluator_prompt_details,\n",
    "    generator_prompt=generator_prompt_details,\n",
    "    ratings=ratings,\n",
    "    task=task,\n",
    "    max_iterations=5,\n",
    "    async_mode=True\n",
    ")"
   ],
   "id": "6fb27709669d642b"
  },
  {
   "metadata": {},
   "cell_type": "code",
   "outputs": [],
   "execution_count": null,
   "source": [
    "print(result)\n",
    "print(chain_of_thought)"
   ],
   "id": "96ff4690347eaf47"
  },
  {
   "metadata": {},
   "cell_type": "markdown",
   "source": "# Example 9: Synchronous Symphony",
   "id": "9b0520bff435263e"
  },
  {
   "metadata": {
    "ExecuteTime": {
     "end_time": "2025-03-23T17:48:12.532126Z",
     "start_time": "2025-03-23T17:48:12.528064Z"
    }
   },
   "cell_type": "code",
   "source": [
    "# Initialize the AgentWorkflow for symphonic workflow\n",
    "agent = AgentWorkflow(operation=\"symphonic\")\n",
    "\n",
    "# Define the composer and worker details\n",
    "composer_details = {\n",
    "    \"main_task\": {\"task\": \"Write a product description for a new high-performance running shoe\"},\n",
    "    \"prompt\": \"Analyze this task and break it down into a couple of distinct approaches\",\n",
    "    \"provider\": provider,\n",
    "    \"model\": model,\n",
    "    \"system_prompt\": \"You are a task composer.\"\n",
    "}\n",
    "\n",
    "worker_details = {\n",
    "    \"subtasks\": [\n",
    "        {\"type\": \"technical\", \"description\": \"Write a precise, technical version that emphasizes specifications and performance metrics\"},\n",
    "        {\"type\": \"lifestyle\", \"description\": \"Write an engaging, lifestyle-oriented version that connects with runners and fitness enthusiasts\"}\n",
    "    ],\n",
    "    \"prompt\": \"Generate content based on:\\nTask: {original_task}\\nStyle: {task_type}\\nGuidelines: {task_description}\",\n",
    "    \"provider\": provider,\n",
    "    \"model\": model,\n",
    "    \"system_prompt\": \"You are a task worker.\"\n",
    "}"
   ],
   "id": "5f68d2e824068cd5",
   "outputs": [],
   "execution_count": 6
  },
  {
   "metadata": {
    "ExecuteTime": {
     "end_time": "2025-03-23T17:48:18.489493Z",
     "start_time": "2025-03-23T17:48:13.146091Z"
    }
   },
   "cell_type": "code",
   "source": [
    "# Execute the workflow\n",
    "result = agent.execute(composer_details=composer_details, worker_details=worker_details)\n"
   ],
   "id": "4953e62142474f48",
   "outputs": [
    {
     "name": "stdout",
     "output_type": "stream",
     "text": [
      "Response: dict_keys(['candidates', 'create_time', 'response_id', 'model_version', 'prompt_feedback', 'usage_metadata', 'automatic_function_calling_history', 'parsed'])\n",
      "Model: gemini-2.0-flash\n",
      "Usage: cached_content_token_count=None candidates_token_count=425 prompt_token_count=170 total_token_count=595\n",
      "Response: dict_keys(['candidates', 'create_time', 'response_id', 'model_version', 'prompt_feedback', 'usage_metadata', 'automatic_function_calling_history', 'parsed'])\n",
      "Model: gemini-2.0-flash\n",
      "Usage: cached_content_token_count=None candidates_token_count=173 prompt_token_count=67 total_token_count=240\n",
      "Worker Response: Okay, I understand. I will generate content based on the provided task, style, and guidelines, and return it within `<response>` tags.\n",
      "\n",
      "Let's proceed. Please provide me with the following:\n",
      "\n",
      "*   **original_task:** The specific task you want me to complete (e.g., \"Write a blog post about the benefits of meditation\").\n",
      "*   **task_type:** The desired style or tone (e.g., \"Informative\", \"Persuasive\", \"Humorous\", \"Technical\", \"Creative\").\n",
      "*   **task_description:** Any additional guidelines, instructions, or context (e.g., \"Target audience: Beginners to meditation; Length: 500-700 words; Include statistics about stress reduction\").\n",
      "\n",
      "Once you provide this information, I will generate the content accordingly.\n",
      "\n",
      "Response: dict_keys(['candidates', 'create_time', 'response_id', 'model_version', 'prompt_feedback', 'usage_metadata', 'automatic_function_calling_history', 'parsed'])\n",
      "Model: gemini-2.0-flash\n",
      "Usage: cached_content_token_count=None candidates_token_count=158 prompt_token_count=67 total_token_count=225\n",
      "Worker Response: Okay, I understand. I will generate content based on the provided task, style, and guidelines, and return it within the `<response>` tags. \n",
      "\n",
      "Please provide me with the following:\n",
      "\n",
      "*   **original_task:** The specific task you want me to perform (e.g., write a blog post, generate a poem, create a code snippet).\n",
      "*   **task_type:** The style you want the content to be in (e.g., formal, informal, humorous, technical, persuasive).\n",
      "*   **task_description:** Any additional guidelines or instructions you have for the content (e.g., specific keywords to include, target audience, length constraints, specific tone).\n",
      "\n",
      "Once I have this information, I will generate the content accordingly.\n",
      "\n"
     ]
    }
   ],
   "execution_count": 7
  },
  {
   "metadata": {
    "ExecuteTime": {
     "end_time": "2025-03-23T17:48:18.506065Z",
     "start_time": "2025-03-23T17:48:18.502275Z"
    }
   },
   "cell_type": "code",
   "source": [
    "print(f\"Analysis:\\n{result['analysis']}\")\n",
    "print(f\"Worker Results:\\n{result['worker_results']}\")"
   ],
   "id": "632702e4ab0f5828",
   "outputs": [
    {
     "name": "stdout",
     "output_type": "stream",
     "text": [
      "Analysis:\n",
      "\n",
      "The task is to write a product description for a new high-performance running shoe. This task can be approached from different angles to target distinct customer segments and highlight various aspects of the product.\n",
      "\n",
      "**Original Approach (Implicit):** The original task implicitly assumes a balanced approach, covering both technical aspects and lifestyle benefits. It would likely result in a description that attempts to appeal to a broad audience by mentioning key features and their associated advantages in a relatively concise manner.\n",
      "\n",
      "**Variations:**\n",
      "\n",
      "1.  **Technical Focus:** This variation prioritizes technical specifications, performance metrics, and scientific advancements incorporated into the shoe's design. It aims to solve the problem of reaching experienced runners and performance-oriented individuals who are primarily interested in data and quantifiable improvements. It differs from the original by de-emphasizing emotional appeal and focusing on factual information.\n",
      "\n",
      "2.  **Lifestyle Focus:** This variation prioritizes emotional appeal, storytelling, and connection with the running lifestyle. It aims to solve the problem of engaging a broader audience, including casual runners and fitness enthusiasts, who are more interested in the feeling and experience of running. It differs from the original by downplaying technical jargon and highlighting the shoe's ability to enhance the joy and motivation of running.\n",
      "\n",
      "\n",
      "Worker Results:\n",
      "[{'type': 'technical', 'description': 'Write a precise, technical version that emphasizes specifications and performance metrics. Focus on details like midsole material, weight, drop, upper construction, outsole rubber compound, and target pace. Quantify benefits whenever possible (e.g., \"% increase in energy return\"). Target experienced runners who value data and performance.', 'result': 'Okay, I understand. I will generate content based on the provided task, style, and guidelines, and return it within `<response>` tags.\\n\\nLet\\'s proceed. Please provide me with the following:\\n\\n*   **original_task:** The specific task you want me to complete (e.g., \"Write a blog post about the benefits of meditation\").\\n*   **task_type:** The desired style or tone (e.g., \"Informative\", \"Persuasive\", \"Humorous\", \"Technical\", \"Creative\").\\n*   **task_description:** Any additional guidelines, instructions, or context (e.g., \"Target audience: Beginners to meditation; Length: 500-700 words; Include statistics about stress reduction\").\\n\\nOnce you provide this information, I will generate the content accordingly.\\n'}, {'type': 'lifestyle', 'description': 'Write an engaging, lifestyle-oriented version that connects with runners and fitness enthusiasts. Focus on the feeling of running in the shoe, the benefits for overall fitness, and the connection to the running community. Use evocative language and imagery to create an emotional connection. Target casual runners and fitness enthusiasts who value comfort, enjoyment, and motivation.', 'result': 'Okay, I understand. I will generate content based on the provided task, style, and guidelines, and return it within the `<response>` tags. \\n\\nPlease provide me with the following:\\n\\n*   **original_task:** The specific task you want me to perform (e.g., write a blog post, generate a poem, create a code snippet).\\n*   **task_type:** The style you want the content to be in (e.g., formal, informal, humorous, technical, persuasive).\\n*   **task_description:** Any additional guidelines or instructions you have for the content (e.g., specific keywords to include, target audience, length constraints, specific tone).\\n\\nOnce I have this information, I will generate the content accordingly.\\n'}]\n"
     ]
    }
   ],
   "execution_count": 8
  },
  {
   "metadata": {},
   "cell_type": "markdown",
   "source": "# Example 10: Asynchronous Symphony",
   "id": "332f6e3608d4ab0d"
  },
  {
   "metadata": {
    "ExecuteTime": {
     "end_time": "2025-03-23T17:15:54.828246Z",
     "start_time": "2025-03-23T17:15:54.824686Z"
    }
   },
   "cell_type": "code",
   "source": [
    "# Initialize the AgentWorkflow for symphonic workflow\n",
    "agent = AgentWorkflow(operation=\"symphonic\")\n",
    "\n",
    "# Define the composer and worker details\n",
    "composer_details = {\n",
    "    \"main_task\": {\"task\": \"Write a product description for a new high-performance running shoe\"},\n",
    "    \"prompt\": \"Analyze this task and break it down into a couple of distinct approaches\",\n",
    "    \"provider\": provider,\n",
    "    \"model\": model,\n",
    "    \"system_prompt\": \"You are a task composer.\"\n",
    "}\n",
    "\n",
    "worker_details = {\n",
    "    \"subtasks\": [\n",
    "        {\"type\": \"technical\", \"description\": \"Write a precise, technical version that emphasizes specifications and performance metrics\"},\n",
    "        {\"type\": \"lifestyle\", \"description\": \"Write an engaging, lifestyle-oriented version that connects with runners and fitness enthusiasts\"}\n",
    "    ],\n",
    "    \"prompt\": \"Generate content based on:\\nTask: {original_task}\\nStyle: {task_type}\\nGuidelines: {task_description}\",\n",
    "    \"provider\": provider,\n",
    "    \"model\": model,\n",
    "    \"system_prompt\": \"You are a task worker.\"\n",
    "}"
   ],
   "id": "23547daa3c5707cd",
   "outputs": [],
   "execution_count": 41
  },
  {
   "metadata": {
    "ExecuteTime": {
     "end_time": "2025-03-23T17:16:00.970352Z",
     "start_time": "2025-03-23T17:15:55.610974Z"
    }
   },
   "cell_type": "code",
   "source": [
    "# Execute the workflow asynchronously\n",
    "result = await agent.execute(composer_details=composer_details, worker_details=worker_details, async_mode=True)"
   ],
   "id": "f7f2c15b8686e5c2",
   "outputs": [
    {
     "name": "stdout",
     "output_type": "stream",
     "text": [
      "Response: dict_keys(['candidates', 'create_time', 'response_id', 'model_version', 'prompt_feedback', 'usage_metadata', 'automatic_function_calling_history', 'parsed'])\n",
      "Model: gemini-2.0-flash\n",
      "Usage: cached_content_token_count=None candidates_token_count=557 prompt_token_count=170 total_token_count=727\n",
      "Response: dict_keys(['candidates', 'create_time', 'response_id', 'model_version', 'prompt_feedback', 'usage_metadata', 'automatic_function_calling_history', 'parsed'])\n",
      "Model: gemini-2.0-flash\n",
      "Usage: cached_content_token_count=None candidates_token_count=40 prompt_token_count=67 total_token_count=107\n",
      "Worker Response: Okay, I understand. I will generate content based on the provided Task, Style, and Guidelines, and present the final response within `<response>` tags. I'm ready when you are.\n",
      "\n",
      "Response: dict_keys(['candidates', 'create_time', 'response_id', 'model_version', 'prompt_feedback', 'usage_metadata', 'automatic_function_calling_history', 'parsed'])\n",
      "Model: gemini-2.0-flash\n",
      "Usage: cached_content_token_count=None candidates_token_count=134 prompt_token_count=67 total_token_count=201\n",
      "Worker Response: Okay, I understand. I'm ready to generate content. Just provide the following:\n",
      "\n",
      "*   **`original_task`**: A clear and concise statement of what needs to be created.\n",
      "*   **`task_type`**: The desired style of the content (e.g., persuasive, informative, creative, technical, humorous, etc.).\n",
      "*   **`task_description`**: Specific guidelines and instructions, including target audience, tone, length, formatting requirements, or any constraints that need to be considered.\n",
      "\n",
      "Once I have these three pieces of information, I will generate the content and return it within the `<response>` tags.\n",
      "\n"
     ]
    }
   ],
   "execution_count": 42
  },
  {
   "metadata": {
    "ExecuteTime": {
     "end_time": "2025-03-23T17:16:26.339300Z",
     "start_time": "2025-03-23T17:16:26.336580Z"
    }
   },
   "cell_type": "code",
   "source": [
    "print(f\"Analysis:\\n{result['analysis']}\")\n",
    "print(f\"Worker Results:\\n{result['worker_results']}\")"
   ],
   "id": "f0aeb9c867fd85e4",
   "outputs": [
    {
     "name": "stdout",
     "output_type": "stream",
     "text": [
      "Analysis:\n",
      "\n",
      "The core task is to write a product description for a new high-performance running shoe. This can be approached in several ways, each targeting a different audience and emphasizing different aspects of the shoe. The original, unspecified approach would likely attempt a balanced description covering both technical features and general benefits.\n",
      "\n",
      "**Variations and their rationale:**\n",
      "\n",
      "1. **Technical/Specification Focused:** This variation solves the problem of appealing to serious runners who are highly informed and prioritize objective performance data. It differs from a general description by focusing intensely on materials, technologies, and quantifiable benefits (e.g., weight, energy return, stability features).\n",
      "\n",
      "2. **Lifestyle/Aspirational Focused:** This variation solves the problem of engaging with runners who are motivated by the feeling and experience of running, and who value aesthetics and style. It differs by de-emphasizing technical jargon and instead focusing on the emotional connection with running, the shoe's design, and how it enhances the overall running experience.\n",
      "\n",
      "3. **Benefit-Driven/Problem-Solving Focused:** This variation solves the problem of directly addressing specific pain points or needs that runners face (e.g., preventing injuries, improving speed, enhancing comfort). It differs by framing the features of the shoe as solutions to these problems, making the description more persuasive.\n",
      "\n",
      "4. **Comparative/Competitive Focused:** This variation solves the problem of demonstrating the shoe's superiority compared to its competitors. It highlights how the shoe outperforms other leading models in terms of specific features or performance metrics, appealing to runners who are actively comparing options. *This option has not been included in the tasks below.*\n",
      "\n",
      "5. **Storytelling/Narrative Focused:** This variation solves the problem of capturing attention and creating a memorable impression by weaving the shoe's features into a narrative about running, innovation, or the target audience. It differs by foregoing a straightforward list of features in favor of a compelling story. *This option has not been included in the tasks below.*\n",
      "\n",
      "\n",
      "Worker Results:\n",
      "[{'type': 'technical', 'description': 'Write a precise, technical version that emphasizes specifications and performance metrics, suitable for informed runners and comparison shopping. Include details on materials, weight, drop, cushioning technology, and lab-tested performance data. Focus on objective performance indicators and avoid subjective language.', 'result': \"Okay, I understand. I will generate content based on the provided Task, Style, and Guidelines, and present the final response within `<response>` tags. I'm ready when you are.\\n\"}, {'type': 'lifestyle', 'description': 'Write an engaging, lifestyle-oriented version that connects with runners and fitness enthusiasts on an emotional level. Focus on the feeling of running in the shoe, its style and design, and how it enhances the overall running experience. Use evocative language and imagery to create a sense of aspiration and excitement.', 'result': \"Okay, I understand. I'm ready to generate content. Just provide the following:\\n\\n*   **`original_task`**: A clear and concise statement of what needs to be created.\\n*   **`task_type`**: The desired style of the content (e.g., persuasive, informative, creative, technical, humorous, etc.).\\n*   **`task_description`**: Specific guidelines and instructions, including target audience, tone, length, formatting requirements, or any constraints that need to be considered.\\n\\nOnce I have these three pieces of information, I will generate the content and return it within the `<response>` tags.\\n\"}]\n"
     ]
    }
   ],
   "execution_count": 43
  },
  {
   "metadata": {},
   "cell_type": "code",
   "source": "",
   "id": "cba97027a9ebf479",
   "outputs": [],
   "execution_count": null
  }
 ],
 "metadata": {
  "kernelspec": {
   "display_name": "Python 3",
   "language": "python",
   "name": "python3"
  },
  "language_info": {
   "codemirror_mode": {
    "name": "ipython",
    "version": 2
   },
   "file_extension": ".py",
   "mimetype": "text/x-python",
   "name": "python",
   "nbconvert_exporter": "python",
   "pygments_lexer": "ipython2",
   "version": "2.7.6"
  }
 },
 "nbformat": 4,
 "nbformat_minor": 5
}
