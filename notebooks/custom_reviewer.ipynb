{
 "cells": [
  {
   "metadata": {},
   "cell_type": "markdown",
   "source": [
    "# Custom Reviewer Workflow\n",
    "This notebook demonstrates how to create a custom workflow using the `AgentWorkflow` class.\n"
   ],
   "id": "610eee6901924b70"
  },
  {
   "metadata": {},
   "cell_type": "markdown",
   "source": "# Imports",
   "id": "f496435e825ee359"
  },
  {
   "metadata": {
    "ExecuteTime": {
     "end_time": "2025-03-24T05:13:51.552834Z",
     "start_time": "2025-03-24T05:13:50.785296Z"
    }
   },
   "cell_type": "code",
   "source": [
    "from dotenv import load_dotenv\n",
    "from typing import Any, Dict, List\n",
    "\n",
    "from saw.core.model_interface import amodel_call\n",
    "from saw.workflow import AgentWorkflow"
   ],
   "id": "feeae8f5f139d526",
   "outputs": [],
   "execution_count": 1
  },
  {
   "metadata": {
    "ExecuteTime": {
     "end_time": "2025-03-24T05:13:51.560694Z",
     "start_time": "2025-03-24T05:13:51.556040Z"
    }
   },
   "cell_type": "code",
   "source": [
    "# Load environment variables\n",
    "load_dotenv(\"../docker/.env\")"
   ],
   "id": "8834d7f0780fb8cc",
   "outputs": [
    {
     "data": {
      "text/plain": [
       "True"
      ]
     },
     "execution_count": 2,
     "metadata": {},
     "output_type": "execute_result"
    }
   ],
   "execution_count": 2
  },
  {
   "metadata": {},
   "cell_type": "markdown",
   "source": [
    "# Define Custom Reviewer Function\n",
    "Define a custom function that will be used by the `AgentWorkflow` to review content.\n"
   ],
   "id": "a812979ba18f619d"
  },
  {
   "metadata": {
    "ExecuteTime": {
     "end_time": "2025-03-24T05:13:51.645103Z",
     "start_time": "2025-03-24T05:13:51.641647Z"
    }
   },
   "cell_type": "code",
   "source": [
    "async def custom_reviewer(prompts: List[Dict[str, Any]]) -> str:\n",
    "    reviews = []\n",
    "    for prompt in prompts:\n",
    "        response = await amodel_call(\n",
    "            prompt=prompt[\"prompt\"],\n",
    "            provider=prompt[\"provider\"],\n",
    "            model=prompt[\"model\"],\n",
    "            system_prompt=prompt[\"system_prompt\"],\n",
    "        )\n",
    "        print(f\"{prompt[\"prompt\"]}: {response}\")\n",
    "        reviews.append(response)\n",
    "\n",
    "    summary_prompt = \"Summarize the following reviews into a single insight:\\n\" + \"\\n\".join(reviews)\n",
    "    summary = await amodel_call(\n",
    "        prompt=summary_prompt,\n",
    "        provider=prompts[0][\"provider\"],\n",
    "        model=prompts[0][\"model\"],\n",
    "        system_prompt=\"You are a helpful assistant.\",\n",
    "    )\n",
    "    print(f\"Summary: {summary}\")\n",
    "    return summary"
   ],
   "id": "facea5249f5f247a",
   "outputs": [],
   "execution_count": 3
  },
  {
   "metadata": {},
   "cell_type": "markdown",
   "source": "# Initialize Agent Workflow",
   "id": "fb8bd0e53c9ee72d"
  },
  {
   "metadata": {
    "ExecuteTime": {
     "end_time": "2025-03-24T05:13:51.690705Z",
     "start_time": "2025-03-24T05:13:51.688617Z"
    }
   },
   "cell_type": "code",
   "source": [
    "# Initialize the `AgentWorkflow` with the custom reviewer function.\n",
    "agent = AgentWorkflow(operation=\"custom\", custom_workflow=custom_reviewer)"
   ],
   "id": "c67a28e56f50ce83",
   "outputs": [],
   "execution_count": 4
  },
  {
   "metadata": {
    "ExecuteTime": {
     "end_time": "2025-03-24T05:13:51.733460Z",
     "start_time": "2025-03-24T05:13:51.730737Z"
    }
   },
   "cell_type": "code",
   "source": [
    "# Define Query and Prompts\n",
    "prompt_list = [\n",
    "    {\n",
    "        \"prompt\": \"Review the new smartphone model from a technical perspective.\",\n",
    "        \"model\": \"gemini-2.0-flash\",\n",
    "        \"provider\": \"google\",\n",
    "        \"system_prompt\": \"You are a technical expert.\",\n",
    "        \"functions\": [str.lower]\n",
    "    },\n",
    "    {\n",
    "        \"prompt\": \"Review the new smartphone model from a user experience perspective.\",\n",
    "        \"model\": \"deepseek-r1:1.5b\",\n",
    "        \"provider\": \"ollama\",\n",
    "        \"system_prompt\": \"You are a user experience expert.\",\n",
    "        \"functions\": [str.lower]\n",
    "    },\n",
    "    {\n",
    "        \"prompt\": \"Review the new smartphone model from a market perspective.\",\n",
    "        \"model\": \"llama3-8b-8192\",\n",
    "        \"provider\": \"groq\",\n",
    "        \"system_prompt\": \"You are a market analyst.\",\n",
    "        \"functions\": [str.lower]\n",
    "    }\n",
    "]"
   ],
   "id": "6a9580ef6f3d77a6",
   "outputs": [],
   "execution_count": 5
  },
  {
   "metadata": {
    "ExecuteTime": {
     "end_time": "2025-03-24T05:14:42.815747Z",
     "start_time": "2025-03-24T05:13:51.775373Z"
    }
   },
   "cell_type": "code",
   "source": [
    "# Execute the workflow\n",
    "result = await agent.execute(prompts=prompt_list, async_mode=True)"
   ],
   "id": "e1ac9b6c4f941c62",
   "outputs": [
    {
     "name": "stdout",
     "output_type": "stream",
     "text": [
      "Function Arguments: {'prompts': [{'prompt': 'Review the new smartphone model from a technical perspective.', 'model': 'gemini-2.0-flash', 'provider': 'google', 'system_prompt': 'You are a technical expert.', 'functions': [<method 'lower' of 'str' objects>]}, {'prompt': 'Review the new smartphone model from a user experience perspective.', 'model': 'deepseek-r1:1.5b', 'provider': 'ollama', 'system_prompt': 'You are a user experience expert.', 'functions': [<method 'lower' of 'str' objects>]}, {'prompt': 'Review the new smartphone model from a market perspective.', 'model': 'llama3-8b-8192', 'provider': 'groq', 'system_prompt': 'You are a market analyst.', 'functions': [<method 'lower' of 'str' objects>]}]}\n",
      "Response: dict_keys(['candidates', 'create_time', 'response_id', 'model_version', 'prompt_feedback', 'usage_metadata', 'automatic_function_calling_history', 'parsed'])\n",
      "Model: gemini-2.0-flash\n",
      "Usage: cached_content_token_count=None candidates_token_count=1814 prompt_token_count=16 total_token_count=1830\n",
      "Review the new smartphone model from a technical perspective.: Okay, I'm ready to put on my technical expert hat and review this new smartphone model. To give you the most comprehensive review, I need a bit more information.  Please provide as much of the following as you can:\n",
      "\n",
      "**1. Model Name and Manufacturer:**  (e.g., \"Samsung Galaxy S24 Ultra\", \"Google Pixel 8 Pro\", \"Apple iPhone 15 Pro Max\")  Knowing the specific model is crucial.\n",
      "\n",
      "**2.  Key Specifications:**  If you don't have all of this, provide what you know.  This is *extremely* helpful:\n",
      "\n",
      "*   **Processor (SoC):**  (e.g., \"Qualcomm Snapdragon 8 Gen 3\", \"Apple A17 Bionic\", \"MediaTek Dimensity 9300\")\n",
      "*   **RAM:** (e.g., \"8GB\", \"12GB\", \"16GB\")\n",
      "*   **Storage:** (e.g., \"128GB\", \"256GB\", \"512GB\", \"1TB\") and storage type (e.g., UFS 4.0, UFS 3.1)\n",
      "*   **Display:**\n",
      "    *   **Size:** (e.g., \"6.8 inches\")\n",
      "    *   **Resolution:** (e.g., \"3200 x 1440 pixels\")\n",
      "    *   **Technology:** (e.g., \"AMOLED\", \"LTPO OLED\", \"IPS LCD\")\n",
      "    *   **Refresh Rate:** (e.g., \"60Hz\", \"120Hz\", \"144Hz\")  Is it adaptive?\n",
      "    *   **Brightness:** (e.g., Peak Brightness in nits)\n",
      "    *   **Protection:** (e.g., \"Gorilla Glass Victus 2\")\n",
      "*   **Camera System:**\n",
      "    *   **Main (Wide) Camera:** (e.g., \"50MP, f/1.8, OIS\")  Sensor size if known.\n",
      "    *   **Ultrawide Camera:** (e.g., \"12MP, f/2.2, 120-degree FOV\")\n",
      "    *   **Telephoto Camera(s):** (e.g., \"10MP, f/2.4, 3x Optical Zoom, OIS\"  and/or \"48MP, f/3.5, 5x Optical Zoom, OIS\")\n",
      "    *   **Front Camera:** (e.g., \"12MP, f/2.2, Autofocus\")\n",
      "    *   **Video Recording Capabilities:** (e.g., \"8K at 24/30fps\", \"4K at 30/60fps\", \"1080p at 30/60/120/240fps\")\n",
      "*   **Battery:** (e.g., \"5000mAh\")\n",
      "    *   **Charging Speed:** (e.g., \"65W Wired Charging\", \"15W Wireless Charging\") and charging protocol (e.g., USB-PD, Quick Charge)\n",
      "*   **Connectivity:**\n",
      "    *   **Cellular:** (e.g., \"5G Sub-6 GHz and mmWave\")\n",
      "    *   **Wi-Fi:** (e.g., \"Wi-Fi 6E\", \"Wi-Fi 7\")\n",
      "    *   **Bluetooth:** (e.g., \"Bluetooth 5.3\")\n",
      "    *   **NFC:**\n",
      "    *   **USB Port:** (e.g., \"USB-C 3.2 Gen 2\")\n",
      "*   **Operating System:** (e.g., \"Android 14\", \"iOS 17\")\n",
      "*   **Dimensions and Weight:**\n",
      "*   **Materials:** (e.g., \"Aluminum frame, Glass back\")\n",
      "*   **Ingress Protection:** (e.g., \"IP68\")\n",
      "*   **Other Features:** (e.g., \"Under-display fingerprint sensor\", \"Face Unlock\", \"Stereo speakers\", \"Stylus support\")\n",
      "\n",
      "**3. Benchmarks (Optional):** If you have benchmark scores (e.g., Geekbench, AnTuTu), please provide them.\n",
      "\n",
      "**4. Known Issues/Weaknesses (Optional):** If you are aware of any reported problems or shortcomings, let me know.\n",
      "\n",
      "**Based on the information you provide, here's what I'll consider in my technical review:**\n",
      "\n",
      "*   **Performance:**\n",
      "    *   **SoC Analysis:** A deep dive into the processor's architecture, clock speeds, manufacturing process (e.g., 4nm, 3nm), and its expected performance in various tasks (gaming, video editing, AI processing).  How does it compare to competing SoCs?  Thermal management and sustained performance will be key considerations.\n",
      "    *   **RAM and Storage Speed:**  Is the RAM sufficient for multitasking?  How fast is the storage, and how does that impact app loading times and overall responsiveness?\n",
      "    *   **Software Optimization:** How well does the operating system and manufacturer's UI optimize the hardware?  Are there any performance bottlenecks due to software?\n",
      "*   **Display Quality:**\n",
      "    *   **Accuracy:** Color accuracy (Delta E), sRGB and DCI-P3 coverage.\n",
      "    *   **Brightness and Contrast:**  Is the display bright enough for outdoor use?  What is the contrast ratio?  How well does it handle HDR content?\n",
      "    *   **Refresh Rate Performance:**  Is the refresh rate smooth and consistent?  Does it exhibit any ghosting or smearing?  How well does the adaptive refresh rate function (if applicable)?\n",
      "*   **Camera Performance:**\n",
      "    *   **Image Quality:** Sharpness, dynamic range, noise levels, color reproduction in various lighting conditions.  How does the image processing algorithm handle detail and noise reduction?\n",
      "    *   **Video Quality:**  Resolution, frame rates, stabilization, dynamic range.  How does the phone handle audio recording during video capture?\n",
      "    *   **Computational Photography:**  Effectiveness of features like HDR, Night Mode, Portrait Mode, and AI scene recognition.\n",
      "    *   **Zoom Capabilities:**  Quality of optical and digital zoom.  How well does the phone handle zooming in low light?\n",
      "*   **Battery Life and Charging:**\n",
      "    *   **Real-world battery performance:** How long does the phone last on a typical day of use?  What is the battery drain during specific tasks (gaming, video playback, browsing)?\n",
      "    *   **Charging Speed:** How long does it take to fully charge the battery with the provided charger (if applicable)?  Does the phone get excessively hot during charging?  Effectiveness of wireless charging (if applicable).\n",
      "    *   **Battery Health Management:**  Does the phone have features to optimize battery health and prolong its lifespan?\n",
      "*   **Connectivity:**\n",
      "    *   **Cellular Performance:**  Signal strength, data speeds, and call quality.\n",
      "    *   **Wi-Fi Performance:**  Speed and stability of Wi-Fi connections.  Does it support the latest Wi-Fi standards?\n",
      "    *   **Bluetooth Performance:**  Range, stability, and codec support (e.g., aptX, LDAC).\n",
      "*   **Build Quality and Design:**\n",
      "    *   **Materials:**  Are the materials premium and durable?\n",
      "    *   **Ergonomics:**  How comfortable is the phone to hold and use?\n",
      "    *   **Ingress Protection:**  How well does the phone withstand water and dust?\n",
      "*   **Software and User Experience:**\n",
      "    *   **Operating System:**  Stability, features, and security updates.\n",
      "    *   **Manufacturer's UI:**  Is the UI clean, intuitive, and responsive?  Does it offer useful features or bloatware?\n",
      "    *   **Update Policy:**  How long will the phone receive software and security updates?\n",
      "*   **Value Proposition:**\n",
      "    *   **Price:** How does the price compare to competing devices with similar specifications?\n",
      "    *   **Overall Value:**  Does the phone offer a compelling combination of features, performance, and build quality for its price?\n",
      "\n",
      "**In essence, I'll be looking at the phone as a system, evaluating how all the components work together to deliver a complete user experience. My focus will be on the underlying technology and engineering that make the phone tick.**\n",
      "\n",
      "Provide me with the details, and I'll get started!\n",
      "\n",
      "Response: dict_keys(['model', 'created_at', 'done', 'done_reason', 'total_duration', 'load_duration', 'prompt_eval_count', 'prompt_eval_duration', 'eval_count', 'eval_duration', 'response', 'context'])\n",
      "Using model: deepseek-r1:1.5b\n",
      "Review the new smartphone model from a user experience perspective.: <think>\n",
      "Okay, so I'm trying to understand this new smartphone model they're showing me. Let's break it down step by step.\n",
      "\n",
      "First, the camera is 12MP with an f/16 aperture. That sounds good because lower f/numbers mean better image quality, right? But maybe I should think about how many shots each photo takes. If it's 12MP, does that mean each shot would take around 10 seconds? That seems a bit slow for most people to take photos. Hmm.\n",
      "\n",
      "Then there are the main lenses: 8 MP with f/5.6 and 4 MP with f/9. I've heard about the 8x zoom feature before, which allows users to zoom in by up to eight times. That sounds pretty powerful but could also be a bit overkill for some users who don't need that feature. Maybe I should look into how many photos they take without and with 8x zoom.\n",
      "\n",
      "The sensor is a 2.7-inch LED sensor, so does that mean the image has less noise because of the pixel size? Or maybe it's about the color accuracy because LEDs can have issues with color representation. I'm not too sure about this part.\n",
      "\n",
      "Then there are some features like AI in Focus, which suggests it adjusts focus automatically based on the subject. That could save time by avoiding manual tweaking. Oh, and hyperfocal mode for around 500-800 meters—maybe that's good for taking shots from a distance without getting too blurry.\n",
      "\n",
      "The lens is a sphericalfish mirror with a 24mm equivalent focal length of -36mm. That's an interesting design; it focuses the light into a circle from some distance, maybe even from the front. I wonder if this would blur when the camera is used close-up. Also, how long does the image stay sharp? That's probably why they have the 8x zoom feature—it allows you to zoom in without losing too much clarity.\n",
      "\n",
      "The display is a 6.7-inch LiquidCrystal panel with AMOLED quality, which should be flat and easy to read on screen. I've heard about AMOLED displays being more vibrant compared to LCDs, but maybe that's not the issue here. It looks cool though, so that's a plus.\n",
      "\n",
      "The battery is 3000mAh, which is good for long use without needing a charge. And it supports Pro durability with a lithium acid cell, which means if you're using the phone all day, it stays charged longer than some other batteries I've seen. That could be important for someone who uses the smartphone continuously.\n",
      "\n",
      "The operating system is Android 12, which is up-to-date and offers good performance and security. They mentioned that the device can run under Android 7 S, so maybe compatibility with older phones is an option if someone wants to use it on their phones.\n",
      "\n",
      "Connectivity-wise, you can pair it with a smartphone or tablet, and there's support for Face ID, which is probably pretty accurate. But I should check how many times it works—should be good, but sometimes apps might fail if the finger moves too much or if the phone is turned off.\n",
      "\n",
      "The display has HDR+ 32bit True Color, so that means you can have vibrant colors without needing high-end hardware. That would make photos look better on screen compared to lower-end displays.\n",
      "\n",
      "Water resistance is another feature—though I haven't seen the test results yet—so it should hold up when you take a shower or in water. That's a nice touch for someone who likes to swim.\n",
      "\n",
      "So, putting all this together, what are my thoughts? The camera quality seems decent with 12MP and 8x zoom. The display is solid AMOLED. The battery life is good for long use. The operating system is modern, which is a plus. Some features like the spherical fish mirror could be cool for specific uses, but I'm not sure how much that would affect my experience.\n",
      "\n",
      "I wonder if all these features are necessary or if some are redundant. For example, the 8x zoom feature—do most people need it? Maybe not everyone, so perhaps they can opt out and use a standard camera with 2MP for simplicity. That could make it more accessible to a broader audience.\n",
      "\n",
      "Also, I'm curious about how easy it is to access these features without needing a phone app or extension. The mention of a \"Quick mode\" setting suggests that you can adjust focus settings quickly, which would be helpful for taking shots without manual tweaking. But if someone doesn't have Quick mode set up, they might need an app like iDrop or PDAF, right?\n",
      "\n",
      "In terms of usability, the display is responsive and easy to look at, so using it as a phone's screen makes sense. The controls are simple—just swiping through apps or toggling buttons—but if someone has more complicated settings, maybe some extra features would help them.\n",
      "\n",
      "Overall, I think the smartphone looks decent in both display and performance. But without specific tests showing any issues or highlights, it's hard to say for sure how my experience is. Maybe taking a few photos with different settings could give me a better idea of what I'd enjoy doing differently.\n",
      "</think>\n",
      "\n",
      "The new smartphone model offers a well-rounded experience across multiple features, though some areas may be more accessible than others:\n",
      "\n",
      "1. **Camera Quality**: The 8x Zoom feature with an f/5.6 aperture is a powerful tool for taking detailed photos without manual adjustments. However, users can opt out of this feature to use basic 2MP photography.\n",
      "\n",
      "2. **Display Performance**: The LiquidCrystal display (LCD) with AMOLED quality provides vibrant colors and easy-to-read text, making it suitable for both screen and phone usage. The display's HDR+ technology ensures high-quality visuals.\n",
      "\n",
      "3. **Battery Life**: With a 3000mAh battery and Pro durability support, the device supports long-term use without needing frequent charge changes, which is beneficial for continuous smartphone use.\n",
      "\n",
      "4. **Operating System**: Android 12 offers modern performance and security, with compatibility in older models like Android 7 S. This ensures a stable experience across various devices and uses.\n",
      "\n",
      "5. **Connectivity**: Pairable with smartphones or tablets, offering Face ID accuracy with good range. This setup allows for easy adjustments of focus settings without manual tweaking.\n",
      "\n",
      "6. **Design Features**: The spherical fish mirror focuses light into a circle from some distance, aiding sharp images at close-ups. Though color clarity might be an issue, the design is appealing.\n",
      "\n",
      "7. **Additional Touches**: Water resistance and quick mode settings enhance usability. Quick mode simplifies focus adjustments without needing apps or extensions.\n",
      "\n",
      "While the smartphone lacks specific highlights mentioned in user feedback, it presents a balanced choice for both display and performance. Its accessible features make it suitable for those seeking simplicity while still enjoying modern technology.\n",
      "Response: dict_keys(['id', 'choices', 'created', 'model', 'object', 'system_fingerprint', 'usage'])\n",
      "Model: llama3-8b-8192\n",
      "Usage: CompletionUsage(completion_tokens=654, prompt_tokens=31, total_tokens=685, completion_time=0.545, prompt_time=0.006695387, queue_time=0.122924316, total_time=0.551695387)\n",
      "Review the new smartphone model from a market perspective.: The new smartphone model from XYZ Inc. has been generating significant buzz in the tech community, and as a market analyst, I'm excited to review it from a market perspective.\n",
      "\n",
      "**Product Overview**\n",
      "\n",
      "The new smartphone model, dubbed \"Optimus X,\" boasts a stunning 6.7-inch Quad-HD+ AMOLED display, a powerful Qualcomm Snapdragon 888 processor, 12GB of RAM, and a massive 5000mAh battery. Additionally, it features a quad-camera setup with a 50MP primary sensor, 40MP telephoto lens, 12MP ultra-wide-angle lens, and a Time-of-Flight (TOF) sensor for advanced AR capabilities.\n",
      "\n",
      "**Competitive Landscape**\n",
      "\n",
      "In the high-end smartphone market, the Optimus X will compete directly with devices from Apple, Samsung, and Google. The key differentiators for the Optimus X are its unique camera capabilities, long battery life, and sleek design.\n",
      "\n",
      "**Market Potential**\n",
      "\n",
      "Based on market trends and consumer preferences, I estimate that the Optimus X has the potential to capture a significant share of the global high-end smartphone market. The following factors contribute to its market potential:\n",
      "\n",
      "1. Growing demand for smartphones with advanced camera capabilities: The market is shifting towards devices with multi-lens camera systems, offering greater flexibility and improved image quality. The Optimus X's quad-camera setup sets it apart from its competitors.\n",
      "2. Increasing importance of battery life: Consumers are becoming increasingly reliant on their smartphones, and a long-lasting battery is a critical feature. The Optimus X's massive 5000mAh battery ensures that users can enjoy uninterrupted usage throughout the day.\n",
      "3. Growing interest in 5G: The Optimus X supports 5G connectivity, making it an attractive option for consumers who want to take advantage of the latest network technology.\n",
      "4. Strategic partnerships: XYZ Inc. has partnered with major carriers and content providers, ensuring seamless integration and exclusive offers for customers.\n",
      "\n",
      "**Pricing Strategy**\n",
      "\n",
      "To remain competitive, I recommend a pricing strategy that balances profitability with affordability. A starting price point of $899 for the base model, with a premium model at $1,099, would position the Optimus X as a premium offering without breaking the bank.\n",
      "\n",
      "**Marketing Strategies**\n",
      "\n",
      "To effectively promote the Optimus X, I suggest the following marketing strategies:\n",
      "\n",
      "1. Influencer marketing: Partner with social media influencers and tech reviewers to showcase the device's advanced features and user experience.\n",
      "2. Online advertising: Run targeted ads on social media, Google search, and tech websites to reach potential customers.\n",
      "3. In-store promotions: Offer demo units and exclusive offers at major retail stores to generate interest and conversions.\n",
      "4. Content marketing: Create engaging content (blog posts, videos, and tutorials) highlighting the Optimus X's key features and benefits.\n",
      "\n",
      "**Conclusion**\n",
      "\n",
      "The Optimus X has the potential to disrupt the high-end smartphone market with its unique camera capabilities, long battery life, and competitive pricing. By leveraging strategic partnerships, influencer marketing, and targeted advertising, XYZ Inc. can effectively promote the device and increase market share. As a market analyst, I believe that with the right marketing strategy, the Optimus X can become a market leader in the high-end smartphone segment.\n",
      "Response: dict_keys(['candidates', 'create_time', 'response_id', 'model_version', 'prompt_feedback', 'usage_metadata', 'automatic_function_calling_history', 'parsed'])\n",
      "Model: gemini-2.0-flash\n",
      "Usage: cached_content_token_count=None candidates_token_count=76 prompt_token_count=3986 total_token_count=4062\n",
      "Summary: The \"Optimus X\" smartphone from XYZ Inc. is positioned to compete in the high-end market by leveraging its superior camera system, long battery life, and strategic partnerships. A balanced pricing and marketing strategy focusing on influencers, online advertising, and in-store promotions will be key to capturing market share and establishing the Optimus X as a leader in the premium smartphone segment.\n",
      "\n"
     ]
    }
   ],
   "execution_count": 6
  },
  {
   "metadata": {
    "ExecuteTime": {
     "end_time": "2025-03-24T05:14:42.827598Z",
     "start_time": "2025-03-24T05:14:42.824584Z"
    }
   },
   "cell_type": "code",
   "source": "print(result)",
   "id": "1e155cc375571341",
   "outputs": [
    {
     "name": "stdout",
     "output_type": "stream",
     "text": [
      "The \"Optimus X\" smartphone from XYZ Inc. is positioned to compete in the high-end market by leveraging its superior camera system, long battery life, and strategic partnerships. A balanced pricing and marketing strategy focusing on influencers, online advertising, and in-store promotions will be key to capturing market share and establishing the Optimus X as a leader in the premium smartphone segment.\n",
      "\n"
     ]
    }
   ],
   "execution_count": 7
  },
  {
   "metadata": {
    "ExecuteTime": {
     "end_time": "2025-03-24T05:14:42.871117Z",
     "start_time": "2025-03-24T05:14:42.869096Z"
    }
   },
   "cell_type": "code",
   "source": "",
   "id": "96e443641f4d2692",
   "outputs": [],
   "execution_count": null
  }
 ],
 "metadata": {
  "kernelspec": {
   "display_name": "Python 3",
   "language": "python",
   "name": "python3"
  },
  "language_info": {
   "codemirror_mode": {
    "name": "ipython",
    "version": 2
   },
   "file_extension": ".py",
   "mimetype": "text/x-python",
   "name": "python",
   "nbconvert_exporter": "python",
   "pygments_lexer": "ipython2",
   "version": "2.7.6"
  }
 },
 "nbformat": 4,
 "nbformat_minor": 5
}
