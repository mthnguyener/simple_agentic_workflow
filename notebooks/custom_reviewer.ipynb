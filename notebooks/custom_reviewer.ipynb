{
 "cells": [
  {
   "metadata": {},
   "cell_type": "markdown",
   "source": [
    "# Custom Reviewer Workflow\n",
    "This notebook demonstrates how to create a custom workflow using the `AgentWorkflow` class.\n"
   ],
   "id": "610eee6901924b70"
  },
  {
   "metadata": {},
   "cell_type": "markdown",
   "source": "# Imports",
   "id": "f496435e825ee359"
  },
  {
   "metadata": {
    "ExecuteTime": {
     "end_time": "2025-03-23T22:36:34.287046Z",
     "start_time": "2025-03-23T22:36:33.502555Z"
    }
   },
   "cell_type": "code",
   "source": [
    "from dotenv import load_dotenv\n",
    "from typing import Any, Dict, List\n",
    "\n",
    "from saw.core.model_interface import amodel_call\n",
    "from saw.workflow import AgentWorkflow"
   ],
   "id": "feeae8f5f139d526",
   "outputs": [],
   "execution_count": 1
  },
  {
   "metadata": {
    "ExecuteTime": {
     "end_time": "2025-03-23T22:36:34.295419Z",
     "start_time": "2025-03-23T22:36:34.290938Z"
    }
   },
   "cell_type": "code",
   "source": [
    "# Load environment variables\n",
    "load_dotenv(\"../docker/.env\")"
   ],
   "id": "8834d7f0780fb8cc",
   "outputs": [
    {
     "data": {
      "text/plain": [
       "True"
      ]
     },
     "execution_count": 2,
     "metadata": {},
     "output_type": "execute_result"
    }
   ],
   "execution_count": 2
  },
  {
   "metadata": {},
   "cell_type": "markdown",
   "source": [
    "# Define Custom Reviewer Function\n",
    "Define a custom function that will be used by the `AgentWorkflow` to review content.\n"
   ],
   "id": "a812979ba18f619d"
  },
  {
   "metadata": {
    "ExecuteTime": {
     "end_time": "2025-03-23T22:36:34.355970Z",
     "start_time": "2025-03-23T22:36:34.353157Z"
    }
   },
   "cell_type": "code",
   "source": [
    "async def custom_reviewer(prompts: List[Dict[str, Any]], **params: Dict[str, Any]) -> str:\n",
    "    reviews = []\n",
    "    for prompt in prompts:\n",
    "        response = await amodel_call(\n",
    "            prompt=prompt[\"prompt\"],\n",
    "            provider=prompt[\"provider\"],\n",
    "            model=prompt[\"model\"],\n",
    "            system_prompt=prompt[\"system_prompt\"],\n",
    "            **params\n",
    "        )\n",
    "        print(f\"{prompt[\"prompt\"]}: {response}\")\n",
    "        reviews.append(response)\n",
    "\n",
    "    summary_prompt = \"Summarize the following reviews into a single insight:\\n\" + \"\\n\".join(reviews)\n",
    "    summary = await amodel_call(\n",
    "        prompt=summary_prompt,\n",
    "        provider=prompts[0][\"provider\"],\n",
    "        model=prompts[0][\"model\"],\n",
    "        system_prompt=\"You are a helpful assistant.\",\n",
    "        **params\n",
    "    )\n",
    "    print(f\"Summary: {summary}\")\n",
    "    return summary"
   ],
   "id": "facea5249f5f247a",
   "outputs": [],
   "execution_count": 3
  },
  {
   "metadata": {},
   "cell_type": "markdown",
   "source": "# Initialize Agent Workflow",
   "id": "fb8bd0e53c9ee72d"
  },
  {
   "metadata": {
    "ExecuteTime": {
     "end_time": "2025-03-23T22:36:34.403518Z",
     "start_time": "2025-03-23T22:36:34.401571Z"
    }
   },
   "cell_type": "code",
   "source": [
    "# Initialize the `AgentWorkflow` with the custom reviewer function.\n",
    "agent = AgentWorkflow(operation=\"custom\", custom_function=custom_reviewer)"
   ],
   "id": "c67a28e56f50ce83",
   "outputs": [],
   "execution_count": 4
  },
  {
   "metadata": {
    "ExecuteTime": {
     "end_time": "2025-03-23T22:36:34.447133Z",
     "start_time": "2025-03-23T22:36:34.444141Z"
    }
   },
   "cell_type": "code",
   "source": [
    "# Define Query and Prompts\n",
    "prompts = [\n",
    "    {\n",
    "        \"prompt\": \"Review the new smartphone model from a technical perspective.\",\n",
    "        \"model\": \"gemini-2.0-flash\",\n",
    "        \"provider\": \"google\",\n",
    "        \"system_prompt\": \"You are a technical expert.\",\n",
    "        \"functions\": [str.lower]\n",
    "    },\n",
    "    {\n",
    "        \"prompt\": \"Review the new smartphone model from a user experience perspective.\",\n",
    "        \"model\": \"deepseek-r1:1.5b\",\n",
    "        \"provider\": \"ollama\",\n",
    "        \"system_prompt\": \"You are a user experience expert.\",\n",
    "        \"functions\": [str.lower]\n",
    "    },\n",
    "    {\n",
    "        \"prompt\": \"Review the new smartphone model from a market perspective.\",\n",
    "        \"model\": \"llama3-8b-8192\",\n",
    "        \"provider\": \"groq\",\n",
    "        \"system_prompt\": \"You are a market analyst.\",\n",
    "        \"functions\": [str.lower]\n",
    "    }\n",
    "]"
   ],
   "id": "6a9580ef6f3d77a6",
   "outputs": [],
   "execution_count": 5
  },
  {
   "metadata": {},
   "cell_type": "code",
   "source": [
    "# Execute the workflow\n",
    "result = await agent.execute(prompts=prompts, async_mode=True)"
   ],
   "id": "e1ac9b6c4f941c62",
   "outputs": [],
   "execution_count": null
  },
  {
   "metadata": {},
   "cell_type": "code",
   "source": "",
   "id": "1e155cc375571341",
   "outputs": [],
   "execution_count": null
  }
 ],
 "metadata": {
  "kernelspec": {
   "display_name": "Python 3",
   "language": "python",
   "name": "python3"
  },
  "language_info": {
   "codemirror_mode": {
    "name": "ipython",
    "version": 2
   },
   "file_extension": ".py",
   "mimetype": "text/x-python",
   "name": "python",
   "nbconvert_exporter": "python",
   "pygments_lexer": "ipython2",
   "version": "2.7.6"
  }
 },
 "nbformat": 4,
 "nbformat_minor": 5
}
